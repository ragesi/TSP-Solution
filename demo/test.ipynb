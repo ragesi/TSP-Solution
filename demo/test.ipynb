{
 "cells": [
  {
   "cell_type": "code",
   "execution_count": 1,
   "id": "72294ec7",
   "metadata": {},
   "outputs": [],
   "source": [
    "from qiskit import QuantumCircuit, QuantumRegister, ClassicalRegister, transpile\n",
    "from qiskit_ibm_runtime import QiskitRuntimeService, Sampler\n",
    "from qiskit_aer import AerSimulator\n",
    "from qiskit.providers.fake_provider import Fake27QPulseV1, GenericBackendV2\n",
    "import qiskit.circuit.library as lib \n",
    "# import Our_Qiskit_Functions as oq\n",
    "import math as m"
   ]
  },
  {
   "cell_type": "code",
   "execution_count": 15,
   "id": "423591a5",
   "metadata": {},
   "outputs": [
    {
     "name": "stdout",
     "output_type": "stream",
     "text": [
      "6\n"
     ]
    },
    {
     "data": {
      "image/png": "[encoded data removed]",
      "text/plain": [
       "<Figure size 700x500 with 1 Axes>"
      ]
     },
     "execution_count": 15,
     "metadata": {},
     "output_type": "execute_result"
    }
   ],
   "source": [
    "from qiskit import QuantumCircuit, transpile\n",
    "from qiskit.providers.fake_provider import GenericBackendV2, Fake5QV1, Fake27QPulseV1, Fake20QV1\n",
    "# 准确率：\n",
    "# GenericBackendV2 > +Pluse > without Pluse\n",
    "from qiskit.visualization import plot_histogram\n",
    " \n",
    "# Generate a 5-qubit simulated backend\n",
    "backend = GenericBackendV2(num_qubits=5)\n",
    "# backend = Fake5QV1()\n",
    "# backend = Fake27QPulseV1()\n",
    "# backend = Fake20QV1()\n",
    " \n",
    "# Create a simple circuit\n",
    "circuit = QuantumCircuit(3)\n",
    "circuit.h(0)\n",
    "circuit.cx(0,1)\n",
    "circuit.cx(0,2)\n",
    "circuit.measure_all()\n",
    "circuit.draw('mpl')\n",
    " \n",
    "# Transpile the ideal circuit to a circuit that can be directly executed by the backend\n",
    "transpiled_circuit = transpile(circuit, backend)\n",
    "transpiled_circuit.draw('mpl')\n",
    "print(transpiled_circuit.depth())\n",
    " \n",
    "# Run the transpiled circuit using the simulated backend\n",
    "job = backend.run(transpiled_circuit)\n",
    "counts = job.result().get_counts()\n",
    "plot_histogram(counts)"
   ]
  },
  {
   "cell_type": "code",
   "execution_count": 5,
   "id": "d3bbb8f9-af9a-48c5-a5bb-2adb4f0b7a70",
   "metadata": {},
   "outputs": [
    {
     "name": "stderr",
     "output_type": "stream",
     "text": [
      "C:\\ProgramData\\anaconda3\\envs\\qiskitenv-1.0\\lib\\site-packages\\qiskit_ibm_runtime\\qiskit_runtime_service.py:879: UserWarning: Cloud simulators will be deprecated on 15 May 2024. Use the new local testing mode in qiskit-ibm-runtime version 0.22.0 or later to meet your debugging needs.\n",
      "  warnings.warn(warning_message)\n"
     ]
    },
    {
     "name": "stdout",
     "output_type": "stream",
     "text": [
      "SamplerResult(quasi_dists=[{0: 0.48275, 7: 0.51725}], metadata=[{'shots': 4000, 'circuit_metadata': {}}])\n"
     ]
    }
   ],
   "source": [
    "from qiskit_aer import noise\n",
    "\n",
    "qc = QuantumCircuit(3)\n",
    "qc.h(0)\n",
    "qc.cx(0, 1)\n",
    "qc.cx(0, 2)\n",
    "qc.measure_all()\n",
    "\n",
    "noisy_backend = GenericBackendV2(num_qubits=3)\n",
    "\n",
    "service = QiskitRuntimeService()\n",
    "device_backend = service.backend('ibmq_qasm_simulator')\n",
    "noise_model = noise.NoiseModel.from_backend(GenericBackendV2(num_qubits=3))\n",
    "device_backend.options.update_options(noise_model=noise_model)\n",
    "sampler = Sampler(backend=device_backend)\n",
    "output = sampler.run(transpile(qc, noisy_backend)).result()\n",
    "print(output)"
   ]
  },
  {
   "cell_type": "code",
   "execution_count": 6,
   "id": "fad78dc8-f824-46bf-8bc7-1e0dc82165bf",
   "metadata": {},
   "outputs": [
    {
     "name": "stdout",
     "output_type": "stream",
     "text": [
      "[{0: 0.48275, 7: 0.51725}]\n"
     ]
    }
   ],
   "source": [
    "print(output.quasi_dists)"
   ]
  },
  {
   "cell_type": "code",
   "execution_count": 7,
   "id": "4a30f486-5f2d-4c49-b06a-fa0e1bf47c95",
   "metadata": {},
   "outputs": [
    {
     "name": "stdout",
     "output_type": "stream",
     "text": [
      "{0: 0.48275, 7: 0.51725}\n"
     ]
    }
   ],
   "source": [
    "print(output.quasi_dists[0])"
   ]
  },
  {
   "cell_type": "code",
   "execution_count": 8,
   "id": "b6d85032-107f-476c-ba09-d2bc54acf722",
   "metadata": {},
   "outputs": [
    {
     "name": "stdout",
     "output_type": "stream",
     "text": [
      "Result(backend_name='aer_simulator', backend_version='0.13.3', qobj_id='', job_id='bdba6522-bce7-47fc-b91a-9579325538e6', success=True, results=[ExperimentResult(shots=1024, success=True, meas_level=2, data=ExperimentResultData(counts={'0x0': 480, '0x7': 544}), header=QobjExperimentHeader(creg_sizes=[['meas', 3]], global_phase=0.0, memory_slots=3, n_qubits=3, name='circuit-647', qreg_sizes=[['q', 3]], metadata={}), status=DONE, seed_simulator=3512742982, metadata={'batched_shots_optimization': False, 'required_memory_mb': 0, 'method': 'stabilizer', 'active_input_qubits': [0, 1, 2], 'device': 'CPU', 'remapped_qubits': False, 'num_qubits': 3, 'num_clbits': 3, 'time_taken': 0.0031752, 'sample_measure_time': 0.001033, 'input_qubit_map': [[0, 0], [1, 1], [2, 2]], 'max_memory_mb': 16197, 'measure_sampling': True, 'noise': 'ideal', 'parallel_shots': 1, 'parallel_state_update': 12, 'runtime_parameter_bind': False, 'num_bind_params': 1, 'fusion': {'enabled': False}}, time_taken=0.0031752)], date=2024-04-02T22:17:17.549905, status=COMPLETED, header=None, metadata={'omp_enabled': True, 'parallel_experiments': 1, 'max_memory_mb': 16197, 'max_gpu_memory_mb': 0, 'time_taken_execute': 0.0043231, 'time_taken_parameter_binding': 0.0003529}, time_taken=0.010962247848510742)\n"
     ]
    }
   ],
   "source": [
    "qc = QuantumCircuit(3)\n",
    "qc.h(0)\n",
    "qc.cx(0, 1)\n",
    "qc.cx(0, 2)\n",
    "qc.measure_all()\n",
    "\n",
    "simulator = AerSimulator()\n",
    "output = simulator.run(transpile(qc, simulator)).result()\n",
    "print(output)"
   ]
  },
  {
   "cell_type": "code",
   "execution_count": 11,
   "id": "afbf3730-fb63-4186-b030-e76cd44ffe73",
   "metadata": {},
   "outputs": [
    {
     "data": {
      "text/plain": [
       "{'000': 480, '111': 544}"
      ]
     },
     "execution_count": 11,
     "metadata": {},
     "output_type": "execute_result"
    }
   ],
   "source": [
    "output.get_counts()"
   ]
  },
  {
   "cell_type": "code",
   "execution_count": null,
   "id": "a4ca88d3-ed5a-404f-aa38-d95122d14f0b",
   "metadata": {},
   "outputs": [],
   "source": []
  }
 ],
 "metadata": {
  "kernelspec": {
   "display_name": "qiskitenv-1.0",
   "language": "python",
   "name": "qiskitenv-1.0"
  },
  "language_info": {
   "codemirror_mode": {
    "name": "ipython",
    "version": 3
   },
   "file_extension": ".py",
   "mimetype": "text/x-python",
   "name": "python",
   "nbconvert_exporter": "python",
   "pygments_lexer": "ipython3",
   "version": "3.10.14"
  }
 },
 "nbformat": 4,
 "nbformat_minor": 5
}
