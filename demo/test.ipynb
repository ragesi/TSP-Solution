{
 "cells": [
  {
   "cell_type": "code",
   "execution_count": 4,
   "id": "72294ec7",
   "metadata": {},
   "outputs": [],
   "source": [
    "from qiskit import QuantumCircuit, QuantumRegister, ClassicalRegister\n",
    "import qiskit.circuit.library as lib \n",
    "import Our_Qiskit_Functions as oq\n",
    "import math as m"
   ]
  },
  {
   "cell_type": "code",
   "execution_count": 10,
   "id": "4d2c797d",
   "metadata": {},
   "outputs": [
    {
     "name": "stdout",
     "output_type": "stream",
     "text": [
      "491|0001>   509|0000>   \n"
     ]
    },
    {
     "data": {
      "text/plain": [
       "'491|0001>   509|0000>   '"
      ]
     },
     "execution_count": 10,
     "metadata": {},
     "output_type": "execute_result"
    }
   ],
   "source": [
    "control = QuantumRegister(4)\n",
    "eigenvector = QuantumRegister(1)\n",
    "cl = ClassicalRegister(4)\n",
    "qc = QuantumCircuit(control, eigenvector, cl)\n",
    "\n",
    "qc.h(control)\n",
    "qc.x(eigenvector)\n",
    "\n",
    "for i in range(3, -1, -1):\n",
    "    for _ in range(2 ** (4 - i - 1)):\n",
    "        qc.cp(2 * m.pi * 10 / 16, control[i], eigenvector[0])\n",
    "        \n",
    "qc.append(lib.QFT(4, do_swaps=False, inverse=True), control)\n",
    "\n",
    "qc.measure(control, cl)\n",
    "\n",
    "oq.Measurement(qc, shots=1000, return_M=False, print_M=True)"
   ]
  },
  {
   "cell_type": "code",
   "execution_count": 9,
   "id": "35bb3e53",
   "metadata": {},
   "outputs": [
    {
     "name": "stdout",
     "output_type": "stream",
     "text": [
      "1000|0>   \n"
     ]
    },
    {
     "data": {
      "text/plain": [
       "'1000|0>   '"
      ]
     },
     "execution_count": 9,
     "metadata": {},
     "output_type": "execute_result"
    }
   ],
   "source": [
    "qram = QuantumRegister(4)\n",
    "anc = QuantumRegister(3)\n",
    "res = QuantumRegister(1)\n",
    "cl = ClassicalRegister(1)\n",
    "qc = QuantumCircuit(qram, anc, res, cl)\n",
    "\n",
    "qc.x(qram[0])\n",
    "qc.x(qram[1])\n",
    "\n",
    "qc.append(lib.IntegerComparator(4, 7, geq=True), [*qram, res[0], *anc])\n",
    "\n",
    "qc.measure(res, cl)\n",
    "\n",
    "oq.Measurement(qc, shots=1000, return_M=False, print_M=True)"
   ]
  },
  {
   "cell_type": "code",
   "execution_count": 11,
   "id": "5bf8facb",
   "metadata": {},
   "outputs": [
    {
     "ename": "TypeError",
     "evalue": "cannot convert dictionary update sequence element #0 to a sequence",
     "output_type": "error",
     "traceback": [
      "\u001b[1;31m---------------------------------------------------------------------------\u001b[0m",
      "\u001b[1;31mTypeError\u001b[0m                                 Traceback (most recent call last)",
      "Cell \u001b[1;32mIn[11], line 1\u001b[0m\n\u001b[1;32m----> 1\u001b[0m counts \u001b[38;5;241m=\u001b[39m \u001b[38;5;28;43mdict\u001b[39;49m\u001b[43m(\u001b[49m\u001b[43m{\u001b[49m\u001b[38;5;124;43m'\u001b[39;49m\u001b[38;5;124;43m111\u001b[39;49m\u001b[38;5;124;43m'\u001b[39;49m\u001b[43m,\u001b[49m\u001b[43m \u001b[49m\u001b[38;5;241;43m50\u001b[39;49m\u001b[43m}\u001b[49m\u001b[43m)\u001b[49m\n\u001b[0;32m      2\u001b[0m counts[\u001b[38;5;241m0\u001b[39m]\n",
      "\u001b[1;31mTypeError\u001b[0m: cannot convert dictionary update sequence element #0 to a sequence"
     ]
    }
   ],
   "source": [
    "counts = dict({'111', 50})\n",
    "counts[0]"
   ]
  },
  {
   "cell_type": "code",
   "execution_count": null,
   "id": "ce98ead2",
   "metadata": {},
   "outputs": [],
   "source": []
  }
 ],
 "metadata": {
  "kernelspec": {
   "display_name": "qiskitenv",
   "language": "python",
   "name": "qiskitenv"
  },
  "language_info": {
   "codemirror_mode": {
    "name": "ipython",
    "version": 3
   },
   "file_extension": ".py",
   "mimetype": "text/x-python",
   "name": "python",
   "nbconvert_exporter": "python",
   "pygments_lexer": "ipython3",
   "version": "3.10.13"
  }
 },
 "nbformat": 4,
 "nbformat_minor": 5
}
