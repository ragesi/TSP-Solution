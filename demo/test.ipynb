{
 "cells": [
  {
   "cell_type": "code",
   "execution_count": 1,
   "id": "72294ec7",
   "metadata": {},
   "outputs": [],
   "source": [
    "from qiskit import QuantumCircuit, QuantumRegister, ClassicalRegister, transpile\n",
    "from qiskit_aer import AerSimulator\n",
    "from qiskit.providers.fake_provider import Fake27QPulseV1\n",
    "import qiskit.circuit.library as lib \n",
    "# import Our_Qiskit_Functions as oq\n",
    "import math as m"
   ]
  },
  {
   "cell_type": "code",
   "execution_count": 65,
   "id": "f6c66ab0",
   "metadata": {},
   "outputs": [
    {
     "name": "stdout",
     "output_type": "stream",
     "text": [
      "2\n",
      "{'100': 1000}\n"
     ]
    }
   ],
   "source": [
    "q1 = QuantumRegister(3)\n",
    "qc = QuantumCircuit(q1)\n",
    "\n",
    "qc.x(q1[2])\n",
    "\n",
    "# qc.h(q1)\n",
    "# qc.mcx(q1, q2, ancilla_qubits=anc[0], mode='v-chain')\n",
    "# qc.mcx(q1, q2)\n",
    "qc.measure_all()\n",
    "\n",
    "# sim = AerSimulator.from_backend(Fake27QPulseV1())\n",
    "sim = AerSimulator()\n",
    "trans_qc = transpile(qc, sim)\n",
    "# trans_qc.decompose().decompose().draw()\n",
    "print(trans_qc.depth())\n",
    "result = sim.run(qc, shots=1000).result().get_counts()\n",
    "print(result)"
   ]
  },
  {
   "cell_type": "code",
   "execution_count": 22,
   "id": "bbb885bc",
   "metadata": {},
   "outputs": [
    {
     "name": "stdout",
     "output_type": "stream",
     "text": [
      "12\n"
     ]
    }
   ],
   "source": [
    "q = QuantumRegister(2)\n",
    "res = QuantumRegister(1)\n",
    "cl = ClassicalRegister(1)\n",
    "qc = QuantumCircuit(q, res, cl)\n",
    "\n",
    "qc.x(q)\n",
    "\n",
    "qc.h(res)\n",
    "\n",
    "qc.cp(m.pi, q[0], res[0])\n",
    "qc.cp(m.pi, q[1], res[0])\n",
    "\n",
    "# qc.p(m.pi / 2, 2)\n",
    "# qc.p(m.pi / 2 * 4, 1)\n",
    "# qc.p(4 * m.pi, 0)\n",
    "# qc.p(m.pi, 0)\n",
    "# qc.p(m.pi / 2, 1)\n",
    "\n",
    "qc.append(lib.QFT(1, do_swaps=False, inverse=True), res)\n",
    "qc.x(res[0])\n",
    "qc.measure(res, cl)\n",
    "\n",
    "sim = AerSimulator()\n",
    "result = sim.run(transpile(qc, sim)).result().get_counts()\n",
    "print(result)\n",
    "# backend = Fake27QPulseV1()\n",
    "# sim = AerSimulator.from_backend(backend)\n",
    "# trans_qc = transpile(qc, sim)\n",
    "# # trans_qc.draw()\n",
    "# print(trans_qc.depth())"
   ]
  },
  {
   "cell_type": "code",
   "execution_count": 2,
   "id": "4b5e4c71",
   "metadata": {},
   "outputs": [
    {
     "data": {
      "text/html": [
       "<pre style=\"word-wrap: normal;white-space: pre;background: #fff0;line-height: 1.1;font-family: &quot;Courier New&quot;,Courier,monospace\">      ┌─────────┐                                 \n",
       " q_0: ┤ U1(π/2) ├──■────────────────■─────────────\n",
       "      └─────────┘┌─┴─┐┌──────────┐┌─┴─┐┌─────────┐\n",
       " q_1: ───────────┤ X ├┤ U1(-π/2) ├┤ X ├┤ U1(π/2) ├\n",
       "                 └───┘└──────────┘└───┘└─────────┘\n",
       " q_2: ────────────────────────────────────────────\n",
       "                                                  \n",
       " q_3: ────────────────────────────────────────────\n",
       "                                                  \n",
       " q_4: ────────────────────────────────────────────\n",
       "                                                  \n",
       " q_5: ────────────────────────────────────────────\n",
       "                                                  \n",
       " q_6: ────────────────────────────────────────────\n",
       "                                                  \n",
       " q_7: ────────────────────────────────────────────\n",
       "                                                  \n",
       " q_8: ────────────────────────────────────────────\n",
       "                                                  \n",
       " q_9: ────────────────────────────────────────────\n",
       "                                                  \n",
       "q_10: ────────────────────────────────────────────\n",
       "                                                  \n",
       "q_11: ────────────────────────────────────────────\n",
       "                                                  \n",
       "q_12: ────────────────────────────────────────────\n",
       "                                                  \n",
       "q_13: ────────────────────────────────────────────\n",
       "                                                  \n",
       "q_14: ────────────────────────────────────────────\n",
       "                                                  \n",
       "q_15: ────────────────────────────────────────────\n",
       "                                                  \n",
       "q_16: ────────────────────────────────────────────\n",
       "                                                  \n",
       "q_17: ────────────────────────────────────────────\n",
       "                                                  \n",
       "q_18: ────────────────────────────────────────────\n",
       "                                                  \n",
       "q_19: ────────────────────────────────────────────\n",
       "                                                  \n",
       "q_20: ────────────────────────────────────────────\n",
       "                                                  \n",
       "q_21: ────────────────────────────────────────────\n",
       "                                                  \n",
       "q_22: ────────────────────────────────────────────\n",
       "                                                  \n",
       "q_23: ────────────────────────────────────────────\n",
       "                                                  \n",
       "q_24: ────────────────────────────────────────────\n",
       "                                                  \n",
       "q_25: ────────────────────────────────────────────\n",
       "                                                  \n",
       "q_26: ────────────────────────────────────────────\n",
       "                                                  </pre>"
      ],
      "text/plain": [
       "      ┌─────────┐                                 \n",
       " q_0: ┤ U1(π/2) ├──■────────────────■─────────────\n",
       "      └─────────┘┌─┴─┐┌──────────┐┌─┴─┐┌─────────┐\n",
       " q_1: ───────────┤ X ├┤ U1(-π/2) ├┤ X ├┤ U1(π/2) ├\n",
       "                 └───┘└──────────┘└───┘└─────────┘\n",
       " q_2: ────────────────────────────────────────────\n",
       "                                                  \n",
       " q_3: ────────────────────────────────────────────\n",
       "                                                  \n",
       " q_4: ────────────────────────────────────────────\n",
       "                                                  \n",
       " q_5: ────────────────────────────────────────────\n",
       "                                                  \n",
       " q_6: ────────────────────────────────────────────\n",
       "                                                  \n",
       " q_7: ────────────────────────────────────────────\n",
       "                                                  \n",
       " q_8: ────────────────────────────────────────────\n",
       "                                                  \n",
       " q_9: ────────────────────────────────────────────\n",
       "                                                  \n",
       "q_10: ────────────────────────────────────────────\n",
       "                                                  \n",
       "q_11: ────────────────────────────────────────────\n",
       "                                                  \n",
       "q_12: ────────────────────────────────────────────\n",
       "                                                  \n",
       "q_13: ────────────────────────────────────────────\n",
       "                                                  \n",
       "q_14: ────────────────────────────────────────────\n",
       "                                                  \n",
       "q_15: ────────────────────────────────────────────\n",
       "                                                  \n",
       "q_16: ────────────────────────────────────────────\n",
       "                                                  \n",
       "q_17: ────────────────────────────────────────────\n",
       "                                                  \n",
       "q_18: ────────────────────────────────────────────\n",
       "                                                  \n",
       "q_19: ────────────────────────────────────────────\n",
       "                                                  \n",
       "q_20: ────────────────────────────────────────────\n",
       "                                                  \n",
       "q_21: ────────────────────────────────────────────\n",
       "                                                  \n",
       "q_22: ────────────────────────────────────────────\n",
       "                                                  \n",
       "q_23: ────────────────────────────────────────────\n",
       "                                                  \n",
       "q_24: ────────────────────────────────────────────\n",
       "                                                  \n",
       "q_25: ────────────────────────────────────────────\n",
       "                                                  \n",
       "q_26: ────────────────────────────────────────────\n",
       "                                                  "
      ]
     },
     "execution_count": 2,
     "metadata": {},
     "output_type": "execute_result"
    }
   ],
   "source": [
    "q = QuantumRegister(2)\n",
    "qc = QuantumCircuit(q)\n",
    "qc.cp(m.pi, q[0], q[1])\n",
    "\n",
    "# sim = AerSimulator()\n",
    "sim = AerSimulator.from_backend(Fake27QPulseV1())\n",
    "trans_qc = transpile(qc, sim)\n",
    "# print(trans_qc.depth())\n",
    "trans_qc.decompose().draw()"
   ]
  },
  {
   "cell_type": "code",
   "execution_count": 22,
   "id": "827f418b",
   "metadata": {},
   "outputs": [
    {
     "name": "stdout",
     "output_type": "stream",
     "text": [
      "{'000000': 273, '000001': 259, '111111': 241, '111110': 251}\n"
     ]
    }
   ],
   "source": [
    "qc = QuantumCircuit(6)\n",
    "qc.h([0, 1])\n",
    "qc.cx(0, 1)\n",
    "qc.cx(1, 2)\n",
    "qc.cx(2, 3)\n",
    "qc.cx(3, 4)\n",
    "qc.cx(4, 5)\n",
    "qc.measure_all()\n",
    "\n",
    "sim_ideal = AerSimulator()\n",
    "\n",
    "result = sim_ideal.run(qc).result().get_counts()\n",
    "print(result)"
   ]
  },
  {
   "cell_type": "code",
   "execution_count": 40,
   "id": "50d0c943",
   "metadata": {},
   "outputs": [
    {
     "name": "stdout",
     "output_type": "stream",
     "text": [
      "7\n",
      "{'010000': 4, '111111': 218, '100001': 5, '110110': 1, '000001': 245, '110111': 2, '000000': 235, '100000': 5, '111110': 252, '000011': 5, '000100': 4, '011110': 5, '111011': 1, '001110': 2, '000110': 1, '101111': 4, '110001': 1, '011111': 5, '001001': 1, '111101': 7, '000010': 5, '111100': 1, '010001': 5, '101110': 2, '000101': 1, '011101': 1, '111010': 2, '001000': 4}\n",
      "7\n"
     ]
    }
   ],
   "source": [
    "from qiskit.providers.fake_provider import Fake27QPulseV1, Fake5QV1\n",
    "print(qc.depth())\n",
    "device_backend = Fake27QPulseV1()\n",
    "sim_27 = AerSimulator.from_backend(device_backend)\n",
    "\n",
    "result_noise = sim_27.run(transpile(qc, sim_27)).result().get_counts(0)\n",
    "print(result_noise)\n",
    "print(qc.depth())\n",
    "# print((result_noise['111'] + result_noise['000']) / 1024)"
   ]
  },
  {
   "cell_type": "code",
   "execution_count": 19,
   "id": "b4c0a43c",
   "metadata": {},
   "outputs": [
    {
     "name": "stdout",
     "output_type": "stream",
     "text": [
      "{'111': 484, '000': 496, '101': 3, '011': 11, '010': 12, '100': 7, '001': 6, '110': 5}\n",
      "0.95703125\n"
     ]
    }
   ],
   "source": [
    "from qiskit.providers.fake_provider import Fake127QPulseV1\n",
    "device_backend = Fake127QPulseV1()\n",
    "sim_127 = AerSimulator.from_backend(device_backend)\n",
    "\n",
    "result_noise = sim_127.run(transpile(qc, sim_127)).result().get_counts(0)\n",
    "print(result_noise)\n",
    "print((result_noise['111'] + result_noise['000']) / 1024)"
   ]
  },
  {
   "cell_type": "code",
   "execution_count": null,
   "id": "423591a5",
   "metadata": {},
   "outputs": [],
   "source": []
  }
 ],
 "metadata": {
  "kernelspec": {
   "display_name": "qiskitenv-1.0",
   "language": "python",
   "name": "qiskitenv-1.0"
  },
  "language_info": {
   "codemirror_mode": {
    "name": "ipython",
    "version": 3
   },
   "file_extension": ".py",
   "mimetype": "text/x-python",
   "name": "python",
   "nbconvert_exporter": "python",
   "pygments_lexer": "ipython3",
   "version": "3.10.14"
  }
 },
 "nbformat": 4,
 "nbformat_minor": 5
}
