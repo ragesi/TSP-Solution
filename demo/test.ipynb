{
 "cells": [
  {
   "cell_type": "code",
   "execution_count": 2,
   "id": "72294ec7",
   "metadata": {},
   "outputs": [],
   "source": [
    "from qiskit import QuantumCircuit, QuantumRegister, ClassicalRegister, transpile\n",
    "from qiskit_aer import AerSimulator\n",
    "import qiskit.circuit.library as lib \n",
    "# import Our_Qiskit_Functions as oq\n",
    "import math as m"
   ]
  },
  {
   "cell_type": "code",
   "execution_count": 38,
   "id": "827f418b",
   "metadata": {},
   "outputs": [
    {
     "name": "stdout",
     "output_type": "stream",
     "text": [
      "{'000001': 264, '111111': 269, '111110': 237, '000000': 254}\n"
     ]
    }
   ],
   "source": [
    "qc = QuantumCircuit(6)\n",
    "qc.h([0, 1])\n",
    "qc.cx(0, 1)\n",
    "qc.cx(1, 2)\n",
    "qc.cx(2, 3)\n",
    "qc.cx(3, 4)\n",
    "qc.cx(4, 5)\n",
    "qc.measure_all()\n",
    "\n",
    "sim_ideal = AerSimulator()\n",
    "\n",
    "result = sim_ideal.run(qc).result().get_counts()\n",
    "print(result)"
   ]
  },
  {
   "cell_type": "code",
   "execution_count": 40,
   "id": "50d0c943",
   "metadata": {},
   "outputs": [
    {
     "name": "stdout",
     "output_type": "stream",
     "text": [
      "7\n",
      "{'010000': 4, '111111': 218, '100001': 5, '110110': 1, '000001': 245, '110111': 2, '000000': 235, '100000': 5, '111110': 252, '000011': 5, '000100': 4, '011110': 5, '111011': 1, '001110': 2, '000110': 1, '101111': 4, '110001': 1, '011111': 5, '001001': 1, '111101': 7, '000010': 5, '111100': 1, '010001': 5, '101110': 2, '000101': 1, '011101': 1, '111010': 2, '001000': 4}\n",
      "7\n"
     ]
    }
   ],
   "source": [
    "from qiskit.providers.fake_provider import Fake27QPulseV1, Fake5QV1\n",
    "print(qc.depth())\n",
    "device_backend = Fake27QPulseV1()\n",
    "sim_27 = AerSimulator.from_backend(device_backend)\n",
    "\n",
    "result_noise = sim_27.run(transpile(qc, sim_27)).result().get_counts(0)\n",
    "print(result_noise)\n",
    "print(qc.depth())\n",
    "# print((result_noise['111'] + result_noise['000']) / 1024)"
   ]
  },
  {
   "cell_type": "code",
   "execution_count": 19,
   "id": "b4c0a43c",
   "metadata": {},
   "outputs": [
    {
     "name": "stdout",
     "output_type": "stream",
     "text": [
      "{'111': 484, '000': 496, '101': 3, '011': 11, '010': 12, '100': 7, '001': 6, '110': 5}\n",
      "0.95703125\n"
     ]
    }
   ],
   "source": [
    "from qiskit.providers.fake_provider import Fake127QPulseV1\n",
    "device_backend = Fake127QPulseV1()\n",
    "sim_127 = AerSimulator.from_backend(device_backend)\n",
    "\n",
    "result_noise = sim_127.run(transpile(qc, sim_127)).result().get_counts(0)\n",
    "print(result_noise)\n",
    "print((result_noise['111'] + result_noise['000']) / 1024)"
   ]
  },
  {
   "cell_type": "code",
   "execution_count": null,
   "id": "423591a5",
   "metadata": {},
   "outputs": [],
   "source": []
  }
 ],
 "metadata": {
  "kernelspec": {
   "display_name": "qiskitenv-1.0",
   "language": "python",
   "name": "qiskitenv-1.0"
  },
  "language_info": {
   "codemirror_mode": {
    "name": "ipython",
    "version": 3
   },
   "file_extension": ".py",
   "mimetype": "text/x-python",
   "name": "python",
   "nbconvert_exporter": "python",
   "pygments_lexer": "ipython3",
   "version": "3.10.14"
  }
 },
 "nbformat": 4,
 "nbformat_minor": 5
}
