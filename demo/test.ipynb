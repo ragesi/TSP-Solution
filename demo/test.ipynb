{
 "cells": [
  {
   "cell_type": "code",
   "execution_count": 12,
   "id": "72294ec7",
   "metadata": {},
   "outputs": [],
   "source": [
    "from qiskit import QuantumCircuit, QuantumRegister, ClassicalRegister, execute, Aer\n",
    "import qiskit.circuit.library as lib \n",
    "import Our_Qiskit_Functions as oq\n",
    "import math as m\n",
    "\n",
    "S_simulator = Aer.backends(name='statevector_simulator')[0]"
   ]
  },
  {
   "cell_type": "code",
   "execution_count": 10,
   "id": "ce98ead2",
   "metadata": {},
   "outputs": [
    {
     "name": "stdout",
     "output_type": "stream",
     "text": [
      "3\n",
      "2\n",
      "1\n",
      "0\n",
      "1000|0101>   \n"
     ]
    },
    {
     "data": {
      "text/plain": [
       "'1000|0101>   '"
      ]
     },
     "execution_count": 10,
     "metadata": {},
     "output_type": "execute_result"
    }
   ],
   "source": [
    "num = 4\n",
    "\n",
    "eigen_value = QuantumRegister(num)\n",
    "eigen_vector = QuantumRegister(1)\n",
    "cl = ClassicalRegister(num)\n",
    "qc = QuantumCircuit(eigen_value, eigen_vector, cl)\n",
    "\n",
    "qc.h(eigen_value)\n",
    "qc.x(eigen_vector)\n",
    "\n",
    "# QPE算法估计负相位\n",
    "for i in range(num - 1, -1, -1):\n",
    "    print(i)\n",
    "    for _ in range(2 ** (num - i - 1)):\n",
    "        qc.cp(-6 / 16 * 2.0 * m.pi, eigen_value[i], eigen_vector[0])\n",
    "        \n",
    "qc.append(lib.QFT(num, do_swaps=False, inverse=True), eigen_value)\n",
    "\n",
    "qc.measure(eigen_value, cl)\n",
    "\n",
    "oq.Measurement(qc, shots=1000, return_M=False, print_M=True)"
   ]
  },
  {
   "cell_type": "code",
   "execution_count": 3,
   "id": "0802851d",
   "metadata": {},
   "outputs": [
    {
     "name": "stdout",
     "output_type": "stream",
     "text": [
      "1000|0011>   \n"
     ]
    },
    {
     "data": {
      "text/plain": [
       "'1000|0011>   '"
      ]
     },
     "execution_count": 3,
     "metadata": {},
     "output_type": "execute_result"
    }
   ],
   "source": [
    "eigen_value = QuantumRegister(1)\n",
    "eigen_vector = QuantumRegister(1)\n",
    "cl = ClassicalRegister(1)\n",
    "qc = QuantumCircuit(eigen_value, eigen_vector, cl)\n",
    "\n",
    "qc.h(eigen_value)\n",
    "qc.x(eigen_vector)\n",
    "\n",
    "# QPE算法估计负相位\n",
    "for i in range(0, -1, -1):\n",
    "    for _ in range(2 ** (1 - i - 1)):\n",
    "        qc.cp(-1 / 4 * 2.0 * m.pi, eigen_value[i], eigen_vector[0])\n",
    "        \n",
    "qc.append(lib.QFT(1, do_swaps=False, inverse=True), eigen_value)\n",
    "\n",
    "qc.measure(eigen_value, cl)\n",
    "\n",
    "oq.Measurement(qc, shots=1000, return_M=False, print_M=True)"
   ]
  },
  {
   "cell_type": "code",
   "execution_count": 32,
   "id": "d066177a",
   "metadata": {},
   "outputs": [
    {
     "name": "stdout",
     "output_type": "stream",
     "text": [
      "Statevector([0.25+0.j, 0.25+0.j, 0.25+0.j, 0.25+0.j, 0.25+0.j, 0.25+0.j,\n",
      "             0.25+0.j, 0.25+0.j, 0.25+0.j, 0.25+0.j, 0.25+0.j, 0.25+0.j,\n",
      "             0.25+0.j, 0.25+0.j, 0.25+0.j, 0.25+0.j, 0.  +0.j, 0.  +0.j,\n",
      "             0.  +0.j, 0.  +0.j, 0.  +0.j, 0.  +0.j, 0.  +0.j, 0.  +0.j,\n",
      "             0.  +0.j, 0.  +0.j, 0.  +0.j, 0.  +0.j, 0.  +0.j, 0.  +0.j,\n",
      "             0.  +0.j, 0.  +0.j],\n",
      "            dims=(2, 2, 2, 2, 2))\n"
     ]
    }
   ],
   "source": [
    "q = QuantumRegister(4)\n",
    "anc = QuantumRegister(1)\n",
    "qc = QuantumCircuit(q, anc)\n",
    "\n",
    "qc.h(q)\n",
    "# qc.x(anc)\n",
    "\n",
    "SV = execute(qc, S_simulator, shots=1).result().get_statevector()\n",
    "SV"
   ]
  },
  {
   "cell_type": "code",
   "execution_count": 30,
   "id": "1ef586a8",
   "metadata": {},
   "outputs": [
    {
     "name": "stdout",
     "output_type": "stream",
     "text": [
      "2000|00000>   \n"
     ]
    },
    {
     "data": {
      "text/plain": [
       "'2000|00000>   '"
      ]
     },
     "execution_count": 30,
     "metadata": {},
     "output_type": "execute_result"
    }
   ],
   "source": [
    "def qpe():\n",
    "    eigen_vector = QuantumRegister(1)\n",
    "    eigen_value = QuantumRegister(4)\n",
    "    qc = QuantumCircuit(eigen_vector, eigen_value)\n",
    "    \n",
    "    qc.h(eigen_value)\n",
    "    qc.x(eigen_vector)\n",
    "    for i in range(3, -1, -1):\n",
    "        for _ in range(2 ** (3 - i)):\n",
    "            qc.cp(2.0 * m.pi * 10 / 16, eigen_value[i], eigen_vector[0])\n",
    "\n",
    "    qc.append(lib.QFT(4, do_swaps=False, inverse=True), eigen_value)\n",
    "    \n",
    "    return qc\n",
    "\n",
    "eigen_vector = QuantumRegister(1)\n",
    "eigen_value = QuantumRegister(4)\n",
    "anc = QuantumRegister(1)\n",
    "cl = ClassicalRegister(5)\n",
    "qc = QuantumCircuit(eigen_vector, eigen_value, anc, cl)\n",
    "qc.h(anc)\n",
    "\n",
    "qc.append(qpe(), [*eigen_vector, *eigen_value])\n",
    "\n",
    "qc.crz(m.pi, eigen_value[-1], anc[0])\n",
    "\n",
    "qc.append(qpe().inverse(), [*eigen_vector, *eigen_value])\n",
    "\n",
    "qc.measure([*eigen_vector, *eigen_value], cl)\n",
    "\n",
    "oq.Measurement(qc, shots=2000, return_M=False, print_M=True)"
   ]
  },
  {
   "cell_type": "code",
   "execution_count": 40,
   "id": "a886121c",
   "metadata": {},
   "outputs": [
    {
     "name": "stdout",
     "output_type": "stream",
     "text": [
      "00 0.255\n",
      "11 0.246\n",
      "10 0.24\n",
      "01 0.259\n"
     ]
    }
   ],
   "source": [
    "q = QuantumRegister(2)\n",
    "qc = QuantumCircuit(q)\n",
    "\n",
    "qc.h(q)\n",
    "\n",
    "qc.measure_all()\n",
    "\n",
    "output = oq.Measurement(qc, shots=1000, return_M=True, print_M=False)\n",
    "for item in output.items():\n",
    "    print(item[0], item[1] / 1000)"
   ]
  },
  {
   "cell_type": "code",
   "execution_count": null,
   "id": "24f0aec8",
   "metadata": {},
   "outputs": [],
   "source": []
  }
 ],
 "metadata": {
  "kernelspec": {
   "display_name": "qiskitenv",
   "language": "python",
   "name": "qiskitenv"
  },
  "language_info": {
   "codemirror_mode": {
    "name": "ipython",
    "version": 3
   },
   "file_extension": ".py",
   "mimetype": "text/x-python",
   "name": "python",
   "nbconvert_exporter": "python",
   "pygments_lexer": "ipython3",
   "version": "3.10.13"
  }
 },
 "nbformat": 4,
 "nbformat_minor": 5
}
