{
 "cells": [
  {
   "cell_type": "code",
   "execution_count": 1,
   "id": "3bd0538e",
   "metadata": {},
   "outputs": [],
   "source": [
    "from qiskit import QuantumRegister, QuantumCircuit\n",
    "import matplotlib"
   ]
  },
  {
   "cell_type": "code",
   "execution_count": 5,
   "id": "8654ae9b",
   "metadata": {},
   "outputs": [
    {
     "data": {
      "text/plain": [
       "{'channel': 'ibm_quantum',\n",
       " 'token': '73b58acb434c1280ad3d67d714c2ae81fe2141182cae419ad4e86eb10f4e8cced4c288f67b08954a6735678baad82485d6e3528e51666702bd81c9d17b935dd7',\n",
       " 'url': 'https://auth.quantum-computing.ibm.com/api',\n",
       " 'verify': True,\n",
       " 'instance': 'ibm-q/open/main'}"
      ]
     },
     "execution_count": 5,
     "metadata": {},
     "output_type": "execute_result"
    }
   ],
   "source": [
    "from qiskit_ibm_provider import IBMProvider\n",
    "# IBMProvider.save_account('73b58acb434c1280ad3d67d714c2ae81fe2141182cae419ad4e86eb10f4e8cced4c288f67b08954a6735678baad82485d6e3528e51666702bd81c9d17b935dd7')\n",
    "provider = IBMProvider()\n",
    "provider.active_account()\n",
    "# IBMProvider.delete_account()"
   ]
  },
  {
   "cell_type": "code",
   "execution_count": 1,
   "id": "c64a69f1",
   "metadata": {},
   "outputs": [
    {
     "name": "stdout",
     "output_type": "stream",
     "text": [
      "[[8.71964918 2.68470061 4.01758933 8.83660166]\n",
      " [8.36513678 4.57806876 6.91598966 3.04656776]\n",
      " [7.05037345 0.47197036 3.08016333 1.6650888 ]\n",
      " [9.8323104  4.78825845 6.26700962 0.24171474]]\n"
     ]
    }
   ],
   "source": [
    "import numpy as np\n",
    "\n",
    "# 生成一个5x5的随机数组，每个值大于0\n",
    "positive_random_array = np.random.uniform(0.1, 10.0, (4, 4))\n",
    "\n",
    "print(positive_random_array)"
   ]
  },
  {
   "cell_type": "code",
   "execution_count": 16,
   "id": "4dc120dd",
   "metadata": {},
   "outputs": [
    {
     "data": {
      "image/png": "[encoded data removed]",
      "text/plain": [
       "<Figure size 203.683x200.667 with 1 Axes>"
      ]
     },
     "execution_count": 16,
     "metadata": {},
     "output_type": "execute_result"
    }
   ],
   "source": [
    "from qiskit import QuantumCircuit\n",
    " \n",
    "# Create a new circuit with two qubits (first argument) and two classical\n",
    "# bits (second argument)\n",
    "qc = QuantumCircuit(2)\n",
    " \n",
    "# Add a Hadamard gate to qubit 0\n",
    "# qc.h(0)\n",
    " \n",
    "# Perform a controlled-X gate on qubit 1, controlled by qubit 0\n",
    "# qc.cx(0, 1)\n",
    "qc.h([0, 1])\n",
    " \n",
    "# Return a drawing of the circuit using MatPlotLib (\"mpl\"). This is the\n",
    "# last line of the cell, so the drawing appears in the cell output.\n",
    "# Remove the \"mpl\" argument to get a text drawing.\n",
    "qc.draw(\"mpl\")"
   ]
  },
  {
   "cell_type": "code",
   "execution_count": 7,
   "id": "f55bc02d",
   "metadata": {},
   "outputs": [],
   "source": [
    "from qiskit.quantum_info import Pauli\n",
    " \n",
    "ZZ = Pauli('ZZ')\n",
    "ZI = Pauli('ZI')\n",
    "IZ = Pauli('IZ')\n",
    "XX = Pauli('XX')\n",
    "XI = Pauli('XI')\n",
    "IX = Pauli('IX')"
   ]
  },
  {
   "cell_type": "code",
   "execution_count": 17,
   "id": "20e7d53c",
   "metadata": {},
   "outputs": [
    {
     "data": {
      "text/plain": [
       "SamplerResult(quasi_dists=[{1: 0.6, 3: 0.4}], metadata=[{'shots': 5, 'circuit_metadata': {}, 'readout_mitigation_overhead': 1.0, 'readout_mitigation_time': 0.01819180000165943}])"
      ]
     },
     "execution_count": 17,
     "metadata": {},
     "output_type": "execute_result"
    }
   ],
   "source": [
    "from qiskit_ibm_runtime import QiskitRuntimeService, Estimator, Options, Sampler\n",
    " \n",
    "service = QiskitRuntimeService()\n",
    " \n",
    "# Run on the least-busy backend you have access to\n",
    "# backend = service.least_busy(simulator=False, operational=True)\n",
    "backend = 'ibmq_qasm_simulator'\n",
    " \n",
    "options = Options()\n",
    "options.resilience_level = 1\n",
    "options.optimization_level = 3\n",
    " \n",
    "# Create an Estimator object\n",
    "# estimator = Estimator(backend, options=options)\n",
    "sampler = Sampler(backend, options=options)\n",
    "\n",
    "# Submit the circuit to Estimator\n",
    "# job = estimator.run(circuits=[qc]*6, observables=[IZ, IX, ZI, XI, ZZ, XX], shots = 5000)\n",
    "qc.measure_all()\n",
    "job = sampler.run(circuits=qc, shots=5)\n",
    " \n",
    "# Once the job is complete, get the result\n",
    "job.result()"
   ]
  },
  {
   "cell_type": "code",
   "execution_count": 19,
   "id": "02d12930",
   "metadata": {},
   "outputs": [
    {
     "name": "stdout",
     "output_type": "stream",
     "text": [
      "{1: 0.6, 3: 0.4}\n",
      "1\n"
     ]
    }
   ],
   "source": [
    "print(job.result().quasi_dists[0])\n",
    "output = job.result().quasi_dists[0]\n",
    "output = sorted(output.items(), key=lambda item: item[1], reverse=True)\n",
    "print(output[0][0])\n",
    "# print(list(output)[0])"
   ]
  },
  {
   "cell_type": "code",
   "execution_count": 46,
   "id": "e5bf196d",
   "metadata": {},
   "outputs": [
    {
     "name": "stdout",
     "output_type": "stream",
     "text": [
      "{'00': 100}\n"
     ]
    }
   ],
   "source": [
    "def equal_to_int_NOT(reference_state: int, control_num: int, anc_num: int) -> QuantumCircuit:\n",
    "    \"\"\"\n",
    "    if the state of control register corresponds to the specified integer reference, the target bit is flipped\n",
    "    :param reference_state: integer, the expected value of control bits\n",
    "    :param control_num: integer, the number of control bits\n",
    "    :param anc_num: integer, the number of ancilla bits\n",
    "    \"\"\"\n",
    "    control = QuantumRegister(control_num)\n",
    "    anc = QuantumRegister(anc_num)\n",
    "    res = QuantumRegister(1)\n",
    "    qc = QuantumCircuit(control, anc, res)\n",
    "\n",
    "    x_list = []\n",
    "    for i in np.arange(control_num):\n",
    "        if reference_state % 2 == 0:\n",
    "            x_list.append(control[i])\n",
    "        reference_state = int(reference_state / 2)\n",
    "\n",
    "    for i in np.arange(len(x_list)):\n",
    "        qc.x(x_list[i])\n",
    "    qc.append(custom_mcx(control_num, anc_num), [*control, *anc, *res])\n",
    "    for i in np.arange(len(x_list) - 1, -1, -1):\n",
    "        qc.x(x_list[i])\n",
    "\n",
    "    return qc\n",
    "\n",
    "def qpe_u(self, dists: np.ndarray, target_num: int, anc_num: int) -> QuantumCircuit:\n",
    "    control = QuantumRegister(1)\n",
    "    target = QuantumRegister(target_num)\n",
    "    anc = QuantumRegister(anc_num)\n",
    "    qc = QuantumCircuit(control, target, anc)\n",
    "\n",
    "    if target_num < 2:\n",
    "        qc.cp(2.0 * m.pi * (dists[2] - dists[0]), control, target[0])\n",
    "        qc.p(2.0 * m.pi * dists[0], control)\n",
    "        return qc\n",
    "    elif target_num == 2:\n",
    "        qc.cp(2.0 * m.pi * (dists[2] - dists[0]), control, target[1])\n",
    "        qc.p(2.0 * m.pi * dists[0], control)\n",
    "        qc.cp(2.0 * m.pi * (dists[1] - dists[0]), control, target[0])\n",
    "\n",
    "        delta_dists = 2.0 * m.pi * (dists[3] - dists[1] - dists[2] + dists[0])\n",
    "        qc.ccx(control, target[1], anc[0])\n",
    "        qc.cp(delta_dists, anc[0], target[0])\n",
    "        qc.ccx(control, target[1], anc[0])\n",
    "        return qc\n",
    "    else:\n",
    "        for i in np.arange(2 ** (target_num - 2)):\n",
    "            reference_state = i + 2 ** target_num\n",
    "            qc.append(NOT_gate.equal_to_int_NOT(reference_state, target_num - 1, anc_num - 1),\n",
    "                      [*target[2:], control[0], *anc[1:], anc[0]])\n",
    "\n",
    "            qc.append(self.qpe_u(dists[i * 4: (i + 1) * 4], 2, anc_num - 1), [anc[0], target[:2], anc[1:]])\n",
    "\n",
    "            qc.append(NOT_gate.equal_to_int_NOT(reference_state, target_num - 1, anc_num - 1).inverse(),\n",
    "                      [*target[2:], control[0], *anc[1:], anc[0]])"
   ]
  },
  {
   "cell_type": "code",
   "execution_count": null,
   "id": "ef81f72c",
   "metadata": {},
   "outputs": [],
   "source": []
  }
 ],
 "metadata": {
  "kernelspec": {
   "display_name": "qiskitenv",
   "language": "python",
   "name": "qiskitenv"
  },
  "language_info": {
   "codemirror_mode": {
    "name": "ipython",
    "version": 3
   },
   "file_extension": ".py",
   "mimetype": "text/x-python",
   "name": "python",
   "nbconvert_exporter": "python",
   "pygments_lexer": "ipython3",
   "version": "3.9.18"
  }
 },
 "nbformat": 4,
 "nbformat_minor": 5
}
