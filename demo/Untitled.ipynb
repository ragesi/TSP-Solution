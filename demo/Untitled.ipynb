{
 "cells": [
  {
   "cell_type": "code",
   "execution_count": 1,
   "id": "3bd0538e",
   "metadata": {},
   "outputs": [],
   "source": [
    "from qiskit import QuantumRegister, QuantumCircuit\n",
    "import matplotlib"
   ]
  },
  {
   "cell_type": "code",
   "execution_count": 2,
   "id": "8654ae9b",
   "metadata": {},
   "outputs": [
    {
     "data": {
      "text/plain": [
       "{'channel': 'ibm_quantum',\n",
       " 'token': 'e6a1a70576aaff96e48f0fff082ea2573162259d53c805b77d38d766e69c3c09739f89a39e8db27b25713b3a9af1d821b30a94789adadb511005d027369ec79d',\n",
       " 'url': 'https://auth.quantum-computing.ibm.com/api',\n",
       " 'verify': True,\n",
       " 'instance': 'ibm-q/open/main'}"
      ]
     },
     "execution_count": 2,
     "metadata": {},
     "output_type": "execute_result"
    }
   ],
   "source": [
    "from qiskit_ibm_provider import IBMProvider\n",
    "IBMProvider.save_account('e6a1a70576aaff96e48f0fff082ea2573162259d53c805b77d38d766e69c3c09739f89a39e8db27b25713b3a9af1d821b30a94789adadb511005d027369ec79d')\n",
    "provider = IBMProvider()\n",
    "provider.active_account()\n",
    "# IBMProvider.delete_account()"
   ]
  },
  {
   "cell_type": "code",
   "execution_count": 15,
   "id": "c64a69f1",
   "metadata": {},
   "outputs": [
    {
     "name": "stdout",
     "output_type": "stream",
     "text": [
      "21\n",
      "13\n",
      "19\n",
      "13\n",
      "11\n",
      "3\n",
      "20\n",
      "11\n",
      "12\n",
      "19\n",
      "6\n",
      "18\n"
     ]
    }
   ],
   "source": [
    "import numpy as np\n",
    "import random\n",
    "\n",
    "# 生成一个5x5的随机数组，每个值大于0\n",
    "# positive_random_array = np.random.uniform(0.1, 10.0, (4, 2))\n",
    "for i in range(12):\n",
    "    positive_random_array = random.randint(1, 25)\n",
    "\n",
    "    print(positive_random_array)"
   ]
  },
  {
   "cell_type": "code",
   "execution_count": 11,
   "id": "9acbd73b",
   "metadata": {},
   "outputs": [
    {
     "data": {
      "text/plain": [
       "{'1': 4952, '0': 5048}"
      ]
     },
     "execution_count": 11,
     "metadata": {},
     "output_type": "execute_result"
    }
   ],
   "source": [
    "from qiskit import QuantumCircuit, QuantumRegister, ClassicalRegister, Aer, execute\n",
    "import numpy as np\n",
    "\n",
    "S_simulator = Aer.backends(name='statevector_simulator')[0]\n",
    "M_simulator = Aer.backends(name='qasm_simulator')[0]\n",
    "\n",
    "point1 = (1, 1)\n",
    "point2 = (19, 19)\n",
    "\n",
    "q = QuantumRegister(3)\n",
    "cl = ClassicalRegister(1)\n",
    "qc = QuantumCircuit(q, cl)\n",
    "\n",
    "delta_x = (point1[0] - 1) / (1.0 * 19)\n",
    "delta_y = (point1[1] - 1) / (1.0 * 19)\n",
    "theta = np.pi / 2 * (delta_x + delta_y)\n",
    "phi = np.pi / 2 * (delta_x - delta_y + 1)\n",
    "qc.u(theta, phi, 0, q[1])\n",
    "\n",
    "delta_x = (point2[0] - 1) / (1.0 * 19)\n",
    "delta_y = (point2[1] - 1) / (1.0 * 19)\n",
    "theta = np.pi / 2 * (delta_x + delta_y)\n",
    "phi = np.pi / 2 * (delta_x - delta_y + 1)\n",
    "qc.u(theta, phi, 0, q[2])\n",
    "\n",
    "qc.h(q[0])\n",
    "qc.cswap(q[0], q[1], q[2])\n",
    "qc.h(q[0])\n",
    "\n",
    "qc.measure(q[0], cl[0])\n",
    "job = execute(qc, M_simulator, shots=10000)\n",
    "job.result().get_counts()"
   ]
  },
  {
   "cell_type": "code",
   "execution_count": 21,
   "id": "7002cbb6",
   "metadata": {},
   "outputs": [
    {
     "name": "stderr",
     "output_type": "stream",
     "text": [
      "C:\\Users\\Lenovo\\AppData\\Local\\Temp\\ipykernel_14376\\2207641361.py:4: DeprecationWarning: The 'backend' keyword arguments are deprecated as of qiskit-ibm-runtime 0.15.0 and will be removed no sooner than 3 months after the release date. Sessions do not support multiple backends.\n",
      "  session = Session.from_id(\"cnr0q6wgsbh0008swej0\", service, backend)\n"
     ]
    },
    {
     "name": "stdout",
     "output_type": "stream",
     "text": [
      "{'id': 'cnr0q6wgsbh0008swej0', 'backend_name': 'ibm_brisbane', 'interactive_timeout': 2, 'max_time': 900, 'active_timeout': 900, 'state': 'closed', 'accepting_jobs': True, 'last_job_started': '2023-12-06T06:02:37.296Z', 'last_job_completed': '2023-12-06T06:46:50.870Z', 'started_at': '2023-12-06T06:02:37.296Z', 'closed_at': '2023-12-06T06:17:40.948Z'}\n",
      "Closed\n"
     ]
    }
   ],
   "source": [
    "from qiskit_ibm_runtime import QiskitRuntimeService, Session, Sampler, Options\n",
    "service = QiskitRuntimeService()\n",
    "backend = 'ibm_kyoto'\n",
    "session = Session.from_id(\"cnr0q6wgsbh0008swej0\", service, backend)\n",
    "\n",
    "print(session.details())\n",
    "print(session.status())"
   ]
  },
  {
   "cell_type": "code",
   "execution_count": null,
   "id": "566d9737",
   "metadata": {},
   "outputs": [],
   "source": []
  }
 ],
 "metadata": {
  "kernelspec": {
   "display_name": "qiskitenv",
   "language": "python",
   "name": "qiskitenv"
  },
  "language_info": {
   "codemirror_mode": {
    "name": "ipython",
    "version": 3
   },
   "file_extension": ".py",
   "mimetype": "text/x-python",
   "name": "python",
   "nbconvert_exporter": "python",
   "pygments_lexer": "ipython3",
   "version": "3.9.18"
  }
 },
 "nbformat": 4,
 "nbformat_minor": 5
}
