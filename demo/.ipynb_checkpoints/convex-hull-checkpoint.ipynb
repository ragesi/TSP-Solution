{
 "cells": [
  {
   "cell_type": "code",
   "execution_count": 1,
   "id": "cbb4e334-e3d3-4534-866f-b45e38a70fbf",
   "metadata": {},
   "outputs": [],
   "source": [
    "from scipy.spatial import ConvexHull\n",
    "import numpy as np\n",
    "import matplotlib\n",
    "import matplotlib.pyplot as plt\n",
    "\n",
    "from qiskit import QuantumCircuit, QuantumRegister, ClassicalRegister\n",
    "from qiskit_aer import AerSimulator"
   ]
  },
  {
   "cell_type": "code",
   "execution_count": null,
   "id": "7b16497b",
   "metadata": {},
   "outputs": [],
   "source": [
    "def quantum_cal_inner_product(base_vec, cur_vec):\n",
    "    q = QuantumRegister(\n",
    "\n",
    "def find_next_convex_hull_point(cur_point, base_vec, points):\n",
    "    next_point = None\n",
    "    threshold = 0\n",
    "    for point in points:\n",
    "        if cur_point == point:\n",
    "            continue\n",
    "        cur_vec = np.array(point) - np.array(cur_point)\n",
    "        cur_vec = cur_vec / np.linalg.norm(cur_vec)\n",
    "        "
   ]
  }
 ],
 "metadata": {
  "kernelspec": {
   "display_name": "qiskitenv-1.0",
   "language": "python",
   "name": "qiskitenv-1.0"
  },
  "language_info": {
   "codemirror_mode": {
    "name": "ipython",
    "version": 3
   },
   "file_extension": ".py",
   "mimetype": "text/x-python",
   "name": "python",
   "nbconvert_exporter": "python",
   "pygments_lexer": "ipython3",
   "version": "3.10.14"
  }
 },
 "nbformat": 4,
 "nbformat_minor": 5
}
