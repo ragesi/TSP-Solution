{
 "cells": [
  {
   "cell_type": "code",
   "execution_count": 2,
   "id": "3bd0538e",
   "metadata": {},
   "outputs": [],
   "source": [
    "from qiskit import QuantumRegister, QuantumCircuit"
   ]
  },
  {
   "cell_type": "code",
   "execution_count": 3,
   "id": "8654ae9b",
   "metadata": {},
   "outputs": [],
   "source": [
    "from qiskit_ibm_provider import IBMProvider\n",
    "IBMProvider.save_account('a4216d8e3d0791f1496a69dd9edcf472a0e7ed7c8ca57fe15b33a9af5fdd1c970bb4d8feff0e2986d4810a3c34fba9ffeda9c07ecdde6e8339a8ad4beaa27ab2')"
   ]
  },
  {
   "cell_type": "code",
   "execution_count": null,
   "id": "15ea3422",
   "metadata": {},
   "outputs": [],
   "source": []
  }
 ],
 "metadata": {
  "kernelspec": {
   "display_name": "qiskitenv",
   "language": "python",
   "name": "qiskitenv"
  },
  "language_info": {
   "codemirror_mode": {
    "name": "ipython",
    "version": 3
   },
   "file_extension": ".py",
   "mimetype": "text/x-python",
   "name": "python",
   "nbconvert_exporter": "python",
   "pygments_lexer": "ipython3",
   "version": "3.9.18"
  }
 },
 "nbformat": 4,
 "nbformat_minor": 5
}
