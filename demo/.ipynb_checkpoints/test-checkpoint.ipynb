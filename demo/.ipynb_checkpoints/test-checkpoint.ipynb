{
 "cells": [
  {
   "cell_type": "code",
   "execution_count": 1,
   "id": "72294ec7",
   "metadata": {},
   "outputs": [],
   "source": [
    "from qiskit import QuantumCircuit, QuantumRegister, ClassicalRegister, transpile\n",
    "from qiskit_ibm_runtime import QiskitRuntimeService, Sampler\n",
    "from qiskit_aer import AerSimulator\n",
    "from qiskit.providers.fake_provider import Fake27QPulseV1, GenericBackendV2\n",
    "import qiskit.circuit.library as lib \n",
    "# import Our_Qiskit_Functions as oq\n",
    "import math as m"
   ]
  },
  {
   "cell_type": "code",
   "execution_count": 6,
   "id": "fad78dc8-f824-46bf-8bc7-1e0dc82165bf",
   "metadata": {},
   "outputs": [
    {
     "name": "stdout",
     "output_type": "stream",
     "text": [
      "[{0: 0.48275, 7: 0.51725}]\n"
     ]
    }
   ],
   "source": [
    "print(output.quasi_dists)"
   ]
  },
  {
   "cell_type": "code",
   "execution_count": 7,
   "id": "4a30f486-5f2d-4c49-b06a-fa0e1bf47c95",
   "metadata": {},
   "outputs": [
    {
     "name": "stdout",
     "output_type": "stream",
     "text": [
      "{0: 0.48275, 7: 0.51725}\n"
     ]
    }
   ],
   "source": [
    "print(output.quasi_dists[0])"
   ]
  },
  {
   "cell_type": "code",
   "execution_count": 11,
   "id": "afbf3730-fb63-4186-b030-e76cd44ffe73",
   "metadata": {},
   "outputs": [
    {
     "data": {
      "text/plain": [
       "{'000': 480, '111': 544}"
      ]
     },
     "execution_count": 11,
     "metadata": {},
     "output_type": "execute_result"
    }
   ],
   "source": [
    "output.get_counts()"
   ]
  },
  {
   "cell_type": "code",
   "execution_count": 75,
   "id": "a4ca88d3-ed5a-404f-aa38-d95122d14f0b",
   "metadata": {},
   "outputs": [
    {
     "name": "stdout",
     "output_type": "stream",
     "text": [
      "{'0': 967, '1': 57}\n"
     ]
    }
   ],
   "source": [
    "val_num = 1\n",
    "\n",
    "eigen_val = QuantumRegister(val_num)\n",
    "eigen_vec = QuantumRegister(1)\n",
    "cl = ClassicalRegister(val_num)\n",
    "qc = QuantumCircuit(eigen_val, eigen_vec, cl)\n",
    "\n",
    "qc.h(eigen_val)\n",
    "qc.x(eigen_vec)\n",
    "\n",
    "for i in range(val_num):\n",
    "    for _ in range(2 ** (val_num - i - 1)):\n",
    "        qc.cp(2 * m.pi * (0.25 - 1 / 6), eigen_val[i], eigen_vec[0])\n",
    "# qc.cp(2 * m.pi / 8, eigen_val[0], eigen_vec[0])\n",
    "\n",
    "qc.append(lib.QFT(val_num, do_swaps=False, inverse=True), eigen_val)\n",
    "\n",
    "qc.measure(eigen_val, cl)\n",
    "\n",
    "sim = AerSimulator()\n",
    "output = sim.run(transpile(qc, sim)).result().get_counts()\n",
    "print(output)"
   ]
  },
  {
   "cell_type": "code",
   "execution_count": null,
   "id": "426d3de1-410a-4770-b1e5-7383438575e0",
   "metadata": {},
   "outputs": [],
   "source": []
  }
 ],
 "metadata": {
  "kernelspec": {
   "display_name": "qiskitenv-1.0",
   "language": "python",
   "name": "qiskitenv-1.0"
  },
  "language_info": {
   "codemirror_mode": {
    "name": "ipython",
    "version": 3
   },
   "file_extension": ".py",
   "mimetype": "text/x-python",
   "name": "python",
   "nbconvert_exporter": "python",
   "pygments_lexer": "ipython3",
   "version": "3.10.14"
  }
 },
 "nbformat": 4,
 "nbformat_minor": 5
}
