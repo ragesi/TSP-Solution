{
 "cells": [
  {
   "cell_type": "code",
   "execution_count": 1,
   "id": "72294ec7",
   "metadata": {},
   "outputs": [],
   "source": [
    "from qiskit import QuantumCircuit, QuantumRegister, ClassicalRegister\n",
    "import qiskit.circuit.library as lib \n",
    "import Our_Qiskit_Functions as oq\n",
    "import math as m"
   ]
  },
  {
   "cell_type": "code",
   "execution_count": 11,
   "id": "ce98ead2",
   "metadata": {},
   "outputs": [
    {
     "name": "stdout",
     "output_type": "stream",
     "text": [
      "1\n",
      "0\n",
      "68|01>   420|00>   79|11>   433|10>   \n"
     ]
    },
    {
     "data": {
      "text/plain": [
       "'68|01>   420|00>   79|11>   433|10>   '"
      ]
     },
     "execution_count": 11,
     "metadata": {},
     "output_type": "execute_result"
    }
   ],
   "source": [
    "num = 2\n",
    "\n",
    "eigen_value = QuantumRegister(num)\n",
    "eigen_vector = QuantumRegister(1)\n",
    "cl = ClassicalRegister(num)\n",
    "qc = QuantumCircuit(eigen_value, eigen_vector, cl)\n",
    "\n",
    "qc.h(eigen_value)\n",
    "qc.x(eigen_vector)\n",
    "\n",
    "# QPE算法估计负相位\n",
    "for i in range(num - 1, -1, -1):\n",
    "    print(i)\n",
    "    for _ in range(2 ** (num - i - 1)):\n",
    "        qc.cp(1 / 8 * 2.0 * m.pi, eigen_value[i], eigen_vector[0])\n",
    "        \n",
    "qc.append(lib.QFT(num, do_swaps=False, inverse=True), eigen_value)\n",
    "\n",
    "qc.measure(eigen_value, cl)\n",
    "\n",
    "oq.Measurement(qc, shots=1000, return_M=False, print_M=True)"
   ]
  },
  {
   "cell_type": "code",
   "execution_count": 3,
   "id": "0802851d",
   "metadata": {},
   "outputs": [
    {
     "name": "stdout",
     "output_type": "stream",
     "text": [
      "1000|0011>   \n"
     ]
    },
    {
     "data": {
      "text/plain": [
       "'1000|0011>   '"
      ]
     },
     "execution_count": 3,
     "metadata": {},
     "output_type": "execute_result"
    }
   ],
   "source": [
    "eigen_value = QuantumRegister(1)\n",
    "eigen_vector = QuantumRegister(1)\n",
    "cl = ClassicalRegister(1)\n",
    "qc = QuantumCircuit(eigen_value, eigen_vector, cl)\n",
    "\n",
    "qc.h(eigen_value)\n",
    "qc.x(eigen_vector)\n",
    "\n",
    "# QPE算法估计负相位\n",
    "for i in range(0, -1, -1):\n",
    "    for _ in range(2 ** (1 - i - 1)):\n",
    "        qc.cp(-1 / 4 * 2.0 * m.pi, eigen_value[i], eigen_vector[0])\n",
    "        \n",
    "qc.append(lib.QFT(1, do_swaps=False, inverse=True), eigen_value)\n",
    "\n",
    "qc.measure(eigen_value, cl)\n",
    "\n",
    "oq.Measurement(qc, shots=1000, return_M=False, print_M=True)"
   ]
  },
  {
   "cell_type": "code",
   "execution_count": 12,
   "id": "d066177a",
   "metadata": {},
   "outputs": [
    {
     "name": "stdout",
     "output_type": "stream",
     "text": [
      "nihao [1, 2, 3, 4]\n"
     ]
    }
   ],
   "source": []
  },
  {
   "cell_type": "code",
   "execution_count": null,
   "id": "1ef586a8",
   "metadata": {},
   "outputs": [],
   "source": []
  }
 ],
 "metadata": {
  "kernelspec": {
   "display_name": "qiskitenv",
   "language": "python",
   "name": "qiskitenv"
  },
  "language_info": {
   "codemirror_mode": {
    "name": "ipython",
    "version": 3
   },
   "file_extension": ".py",
   "mimetype": "text/x-python",
   "name": "python",
   "nbconvert_exporter": "python",
   "pygments_lexer": "ipython3",
   "version": "3.10.13"
  }
 },
 "nbformat": 4,
 "nbformat_minor": 5
}
