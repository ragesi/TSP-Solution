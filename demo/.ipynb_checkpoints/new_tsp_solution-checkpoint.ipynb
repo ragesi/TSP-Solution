{
 "cells": [
  {
   "cell_type": "code",
   "execution_count": 2,
   "id": "229ab713-96ab-4068-ac36-c7ef7e4fe0d6",
   "metadata": {},
   "outputs": [
    {
     "name": "stdout",
     "output_type": "stream",
     "text": [
      "hull:<scipy.spatial._qhull.ConvexHull object at 0x000002B1B00078E0>\n",
      "hull.vertices:[3 0 2]\n",
      "type:<class 'numpy.ndarray'>\n",
      "boundary_points:[[3 4]\n",
      " [0 0]\n",
      " [2 2]\n",
      " [3 4]]\n",
      "vectors:[[-3 -4]\n",
      " [ 2  2]\n",
      " [ 1  2]]\n",
      "lengths:[5.         2.82842712 2.23606798]\n",
      "np.argsort(lengths):[2 1 0]\n",
      "longest_edges_indices:0\n",
      "vector_to_point:[-1 -2]\n",
      "vector_of_line:[-3 -4]\n",
      "dist_vec_to_point:2.23606797749979\n",
      "True\n",
      "这组点构成一个细长的长方形。\n"
     ]
    }
   ],
   "source": [
    "import numpy as np\n",
    "from scipy.spatial import ConvexHull, QhullError\n",
    "\n",
    "def distance_point_to_line(point, line_start, line_end):\n",
    "    vec_to_point = point - line_start\n",
    "    vec_of_line = line_end - line_start\n",
    "    print(f\"vector_to_point:{vec_to_point}\")\n",
    "    print(f\"vector_of_line:{vec_of_line}\")\n",
    "\n",
    "    dist_vec_to_point = np.linalg.norm(vec_to_point)\n",
    "    dist_vec_of_line = np.linalg.norm(vec_of_line)\n",
    "    print(f\"dist_vec_to_point:{dist_vec_to_point}\")\n",
    "\n",
    "    return abs(dist_vec_to_point * np.sin(np.arccos(np.dot(vec_to_point, vec_of_line) / dist_vec_of_line / dist_vec_to_point)))\n",
    "\n",
    "def is_thin_rectangle(points):\n",
    "    # 计算凸包\n",
    "    try:\n",
    "        hull = ConvexHull(points)\n",
    "        print(f\"hull:{hull}\")\n",
    "    except QhullError:\n",
    "        return True\n",
    "\n",
    "    # 获取凸包的边界点\n",
    "    print(f\"hull.vertices:{hull.vertices}\")\n",
    "    print(f\"type:{type(hull.vertices)}\")\n",
    "    boundary_points = points[hull.vertices]\n",
    "    boundary_points = np.vstack([boundary_points, boundary_points[0]])\n",
    "    print(f\"boundary_points:{boundary_points}\")\n",
    "\n",
    "    # 计算边界点之间的向量\n",
    "    vectors = np.diff(boundary_points, axis=0)\n",
    "    print(f\"vectors:{vectors}\")\n",
    "\n",
    "    # 计算向量的长度\n",
    "    lengths = np.linalg.norm(vectors, axis=1)\n",
    "    print(f\"lengths:{lengths}\")\n",
    "    print(f\"np.argsort(lengths):{np.argsort(lengths)}\")\n",
    "\n",
    "    # 找到最长的两个边的索引\n",
    "    longest_edges_indices = np.argsort(lengths)[-1]\n",
    "    print(f\"longest_edges_indices:{longest_edges_indices}\")\n",
    "\n",
    "    max_dist = -1\n",
    "    for i in range(len(points[hull.vertices])):\n",
    "        if i not in [longest_edges_indices, longest_edges_indices + 1]:\n",
    "            tmp_dist = distance_point_to_line(boundary_points[i], boundary_points[longest_edges_indices], boundary_points[longest_edges_indices + 1])\n",
    "            if tmp_dist > max_dist:\n",
    "                max_dist = tmp_dist\n",
    "    if (max_dist * 2) >= np.linalg.norm(vectors[longest_edges_indices]):\n",
    "        return False\n",
    "    else:\n",
    "        return True\n",
    "\n",
    "\n",
    "# 示例点集\n",
    "points_set = np.array([[0, 0], [1, 1], [2, 2], [3, 4]])\n",
    "\n",
    "# 判断是否构成细长的长方形\n",
    "result = is_thin_rectangle(points_set)\n",
    "print(result)\n",
    "\n",
    "if result:\n",
    "    print(\"这组点构成一个细长的长方形。\")\n",
    "else:\n",
    "    print(\"这组点不构成一个细长的长方形。\")"
   ]
  },
  {
   "cell_type": "code",
   "execution_count": 5,
   "id": "a6508cee-0f29-447b-b980-18e6813e4f42",
   "metadata": {},
   "outputs": [
    {
     "ename": "TypeError",
     "evalue": "unsupported operand type(s) for /=: 'list' and 'int'",
     "output_type": "error",
     "traceback": [
      "\u001b[1;31m---------------------------------------------------------------------------\u001b[0m",
      "\u001b[1;31mTypeError\u001b[0m                                 Traceback (most recent call last)",
      "Cell \u001b[1;32mIn[5], line 2\u001b[0m\n\u001b[0;32m      1\u001b[0m test \u001b[38;5;241m=\u001b[39m [\u001b[38;5;241m10\u001b[39m, \u001b[38;5;241m8\u001b[39m]\n\u001b[1;32m----> 2\u001b[0m test \u001b[38;5;241m/\u001b[39m\u001b[38;5;241m=\u001b[39m \u001b[38;5;241m2\u001b[39m\n\u001b[0;32m      3\u001b[0m \u001b[38;5;28mprint\u001b[39m(test)\n",
      "\u001b[1;31mTypeError\u001b[0m: unsupported operand type(s) for /=: 'list' and 'int'"
     ]
    }
   ],
   "source": [
    "test = [10, 8]\n",
    "test /= 2\n",
    "print(test)"
   ]
  },
  {
   "cell_type": "code",
   "execution_count": null,
   "id": "f14a79af-9d0a-456c-9b90-7ae052694d2f",
   "metadata": {},
   "outputs": [],
   "source": []
  }
 ],
 "metadata": {
  "kernelspec": {
   "display_name": "qiskitenv",
   "language": "python",
   "name": "qiskitenv"
  },
  "language_info": {
   "codemirror_mode": {
    "name": "ipython",
    "version": 3
   },
   "file_extension": ".py",
   "mimetype": "text/x-python",
   "name": "python",
   "nbconvert_exporter": "python",
   "pygments_lexer": "ipython3",
   "version": "3.9.18"
  }
 },
 "nbformat": 4,
 "nbformat_minor": 5
}
