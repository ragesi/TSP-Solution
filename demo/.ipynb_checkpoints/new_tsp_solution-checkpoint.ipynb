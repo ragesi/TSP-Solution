{
 "cells": [
  {
   "cell_type": "code",
   "execution_count": 12,
   "id": "ab12bb2f",
   "metadata": {},
   "outputs": [],
   "source": [
    "\"\"\" 寻找最短路径的经典递归方法 \"\"\"\n",
    "\n",
    "import math as m\n",
    "\n",
    "def find_optimal_path(points, cur_path, cur_length, optimal_path, threshold):\n",
    "    \"\"\"\n",
    "    points: 当前图中还未连接的点集\n",
    "    cur_path: 当前形成的路径\n",
    "    cur_length: 当前路径的长度\n",
    "    optimal_path: 最优路径\n",
    "    threshold: 最优路径的长度\n",
    "    \"\"\"\n",
    "\n",
    "    if not points:\n",
    "        if cur_length < threshold:\n",
    "            for i in range(len(cur_path)):\n",
    "                optimal_path[i] = cur_path[i][:]\n",
    "            threshold = cur_length\n",
    "        return threshold\n",
    "\n",
    "    point_num = len(points)\n",
    "    for i in range(point_num):\n",
    "        cur_point = points.pop(i)\n",
    "        tmp_len = 0\n",
    "        if cur_path:\n",
    "            tmp_len = m.sqrt(pow(cur_point[0] - cur_path[-1][0], 2) + pow(cur_point[1] - cur_path[-1][1], 2))\n",
    "        cur_path.append(cur_point)\n",
    "\n",
    "        threshold = find_optimal_path(points, cur_path, cur_length + tmp_len, optimal_path, threshold)\n",
    "\n",
    "        cur_path.pop()\n",
    "        points.insert(i, cur_point)\n",
    "\n",
    "    return threshold"
   ]
  },
  {
   "cell_type": "code",
   "execution_count": 32,
   "id": "c3220394",
   "metadata": {},
   "outputs": [],
   "source": [
    "\"\"\" K-means算法 \"\"\"\n",
    "\n",
    "import random\n",
    "import math as m\n",
    "\n",
    "# 分配数据点\n",
    "def find_optimal_cluster(point, centroids):\n",
    "    min_length = 100000\n",
    "    target_cluster = -1\n",
    "    for i in range(len(centroids)):\n",
    "        cur_length = m.sqrt(pow(centroids[i][0] - point[0], 2) + pow(centroids[i][1] - point[1], 2))\n",
    "        if cur_length < min_length:\n",
    "            min_length = cur_length\n",
    "            target_cluster = i\n",
    "    return target_cluster\n",
    "\n",
    "\n",
    "def k_means(points, cluster_num):\n",
    "    point_num = len(points)\n",
    "    if point_num < cluster_num:\n",
    "        print(\"聚类数量太多了！\")\n",
    "        return\n",
    "    \n",
    "    # 随机选择聚类中心点\n",
    "    centroids = []\n",
    "    tmp_point_index = [i for i in range(point_num)]\n",
    "    while len(centroids) < cluster_num:\n",
    "        tmp_index = random.randint(0, len(tmp_point_index) - 1)\n",
    "        tmp_index = tmp_point_index.pop(tmp_index)\n",
    "        centroids.append(points[tmp_index])\n",
    "    print(centroids)\n",
    "            \n",
    "    # 分配数据点\n",
    "    clusters = [[] for i in range(cluster_num)]\n",
    "    for i in range(point_num):\n",
    "        target_cluster = find_optimal_cluster(points[i], centroids)\n",
    "        clusters[target_cluster].append(points[i])\n",
    "    \n",
    "    # 迭代过程\n",
    "    for i in range(20):\n",
    "        # 更新聚类中心点\n",
    "        for j in range(cluster_num):\n",
    "            tmp_x = 0.\n",
    "            tmp_y = 0.\n",
    "            for point in clusters[j]:\n",
    "                tmp_x += point[0]\n",
    "                tmp_y += point[1]\n",
    "            centroids[j] = [tmp_x / len(clusters[j]), tmp_y / len(clusters[j])]\n",
    "            \n",
    "        # 更新数据点\n",
    "        new_clusters = [[] for i in range(cluster_num)]\n",
    "        is_terminate = True\n",
    "        for j in range(cluster_num):\n",
    "            for point in clusters[j]:\n",
    "                new_target_cluster = find_optimal_cluster(point, centroids)\n",
    "                new_clusters[new_target_cluster].append(point)\n",
    "                if new_target_cluster != j:\n",
    "                    is_terminate = False\n",
    "        clusters = new_clusters\n",
    "        if is_terminate:\n",
    "            break\n",
    "        \n",
    "#         colors = plt.cm.rainbow(np.linspace(0, 1, 22))\n",
    "#         for i in np.arange(22):\n",
    "#             plt.scatter(centroids[i][0], centroids[i][1], color=colors[i], s=30, marker='x')\n",
    "#             for point in clusters[i]:\n",
    "#                 plt.scatter(point[0], point[1], color=colors[i], s=5)\n",
    "#         plt.show()\n",
    "            \n",
    "    return centroids, clusters"
   ]
  },
  {
   "cell_type": "code",
   "execution_count": 33,
   "id": "362f70fb",
   "metadata": {},
   "outputs": [
    {
     "name": "stdout",
     "output_type": "stream",
     "text": [
      "[[74.0, 29.0], [18.0, 37.0], [41.0, 36.0], [0.0, 27.0], [41.0, 32.0], [25.0, 29.0], [80.0, 41.0], [41.0, 34.0], [38.0, 30.0], [71.0, 11.0], [28.0, 30.0], [74.0, 12.0], [41.0, 23.0], [18.0, 35.0], [28.0, 34.0], [18.0, 11.0], [74.0, 39.0], [15.0, 31.0], [84.0, 24.0], [71.0, 45.0], [35.0, 17.0], [34.0, 29.0]]\n"
     ]
    },
    {
     "data": {
      "image/png": "[encoded data removed]",
      "text/plain": [
       "<Figure size 640x480 with 1 Axes>"
      ]
     },
     "metadata": {},
     "output_type": "display_data"
    }
   ],
   "source": [
    "import matplotlib.pyplot as plt\n",
    "import numpy as np\n",
    "\n",
    "with open('../dataset/xqf131.tsp', 'r') as file:\n",
    "    lines = file.readlines()\n",
    "    \n",
    "lines = lines[8: -1]\n",
    "points = []\n",
    "for line in lines:\n",
    "    point = line.strip().split(' ')[1:]\n",
    "    points.append([float(point[i]) for i in np.arange(len(point))])\n",
    "    \n",
    "centroids, clusters = k_means(points, 22)\n",
    "\n",
    "colors = plt.cm.rainbow(np.linspace(0, 1, 22))\n",
    "for i in np.arange(22):\n",
    "    plt.scatter(centroids[i][0], centroids[i][1], color=colors[i], s=30, marker='x')\n",
    "    for point in clusters[i]:\n",
    "        plt.scatter(point[0], point[1], color=colors[i], s=5)\n",
    "plt.show()"
   ]
  },
  {
   "cell_type": "code",
   "execution_count": 13,
   "id": "2635b93f",
   "metadata": {},
   "outputs": [
    {
     "name": "stdout",
     "output_type": "stream",
     "text": [
      "[[22, 23], [13, 23], [13, 13], [16, 6], [21, 4]]\n",
      "32.00093791299841\n"
     ]
    }
   ],
   "source": [
    "points = [[22, 23],\n",
    "          [21, 4],\n",
    "          [13, 13],\n",
    "          [16, 6],\n",
    "          [13, 23], ]\n",
    "optimal_path = [0 for _ in range(len(points))]\n",
    "threshold = 100000\n",
    "threshold = find_optimal_path(points, [], 0, optimal_path, threshold)\n",
    "print(optimal_path)\n",
    "print(threshold)"
   ]
  },
  {
   "cell_type": "code",
   "execution_count": null,
   "id": "c7bd4ba6",
   "metadata": {},
   "outputs": [],
   "source": []
  }
 ],
 "metadata": {
  "kernelspec": {
   "display_name": "qiskitenv",
   "language": "python",
   "name": "qiskitenv"
  },
  "language_info": {
   "codemirror_mode": {
    "name": "ipython",
    "version": 3
   },
   "file_extension": ".py",
   "mimetype": "text/x-python",
   "name": "python",
   "nbconvert_exporter": "python",
   "pygments_lexer": "ipython3",
   "version": "3.9.18"
  }
 },
 "nbformat": 4,
 "nbformat_minor": 5
}
