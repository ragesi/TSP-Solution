{
 "cells": [
  {
   "cell_type": "code",
   "execution_count": 1,
   "id": "25db1338",
   "metadata": {},
   "outputs": [],
   "source": [
    "from qiskit import QuantumCircuit, QuantumRegister\n",
    "import Our_Qiskit_Functions as oq\n",
    "\n",
    "import numpy as np"
   ]
  },
  {
   "cell_type": "code",
   "execution_count": 4,
   "id": "df9d82ae",
   "metadata": {},
   "outputs": [
    {
     "name": "stdout",
     "output_type": "stream",
     "text": [
      "F(γ,β):  0.9857  γ =  6.4  β =  3.6\n",
      "F(γ,β):  -0.6117  γ =  6.3005  β =  3.5935\n",
      "F(γ,β):  -3.8804  γ =  6.0975  β =  3.609\n",
      "F(γ,β):  -4.5557  γ =  6.061  β =  3.69\n",
      "F(γ,β):  -5.073  γ =  6.0785  β =  3.7655\n",
      "F(γ,β):  -5.4381  γ =  6.0545  β =  3.827\n",
      "F(γ,β):  -5.6822  γ =  6.07  β =  3.8805\n",
      "F(γ,β):  -5.8383  γ =  6.046  β =  3.9205\n",
      "F(γ,β):  -5.936  γ =  6.064  β =  3.9555\n",
      "F(γ,β):  -5.9964  γ =  6.04  β =  3.9795\n",
      "F(γ,β):  -6.0323  γ =  6.06  β =  4.002\n",
      "F(γ,β):  -6.0544  γ =  6.0355  β =  4.0155\n",
      "F(γ,β):  -6.0688  γ =  6.057  β =  4.0305\n",
      "F(γ,β):  -6.0767  γ =  6.033  β =  4.0375\n",
      "F(γ,β):  -6.0836  γ =  6.0545  β =  4.0475\n",
      "F(γ,β):  -6.0874  γ =  6.0325  β =  4.051\n",
      "F(γ,β):  -6.0904  γ =  6.0525  β =  4.058\n",
      "F(γ,β):  -6.0927  γ =  6.0325  β =  4.0595\n",
      "F(γ,β):  -6.0947  γ =  6.0505  β =  4.065\n"
     ]
    }
   ],
   "source": [
    "epsilon = 0.001\n",
    "step_size = 0.01\n",
    "delta = 0.002\n",
    "\n",
    "Vert = [[0, -2.5], [1, 3.25], [2, 1.25]]\n",
    "Edge = [[0, 1, 2], [1, 2, 1.5], [2, 0, -3]]\n",
    "\n",
    "Energies, States = oq.Ising_Energy(Vert, Edge, Transverse=True)\n",
    "EV = 100\n",
    "EV_old = 1000\n",
    "EV_min = 1000\n",
    "\n",
    "beta = 3.6\n",
    "gamma = 6.4\n",
    "s = 0\n",
    "while((abs(EV - EV_old) > delta) and (EV < EV_old)):\n",
    "    q = QuantumRegister(len(Vert))\n",
    "    qc = QuantumCircuit(q)\n",
    "    for hh in np.arange(len(Vert)):\n",
    "        qc.h(q[int(hh)])\n",
    "    if s != 0:\n",
    "        beta, gamma = oq.Ising_Gradient_Descent(qc, q, oq.Ising_Circuit, Vert, Edge, beta, gamma, epsilon, Energies, step_size, Transverse=True, Mixing=2)\n",
    "    oq.Ising_Circuit(qc, q, Vert, Edge, beta, gamma, Transverse=True, Mixing=2)\n",
    "    EV_old = EV\n",
    "    EV = oq.E_Expectation_Value(qc, Energies)\n",
    "    if(EV < EV_min):\n",
    "        Params = [beta, gamma]\n",
    "        EV_min = EV\n",
    "    s = int(s + 1)\n",
    "    print('F(\\u03B3,\\u03B2): ',EV,' \\u03B3 = ',round(gamma,6),' \\u03B2 = ',round(beta,6),)"
   ]
  },
  {
   "cell_type": "code",
   "execution_count": null,
   "id": "d8e1d97d",
   "metadata": {},
   "outputs": [],
   "source": []
  }
 ],
 "metadata": {
  "kernelspec": {
   "display_name": "qiskitenv",
   "language": "python",
   "name": "qiskitenv"
  },
  "language_info": {
   "codemirror_mode": {
    "name": "ipython",
    "version": 3
   },
   "file_extension": ".py",
   "mimetype": "text/x-python",
   "name": "python",
   "nbconvert_exporter": "python",
   "pygments_lexer": "ipython3",
   "version": "3.10.13"
  }
 },
 "nbformat": 4,
 "nbformat_minor": 5
}
