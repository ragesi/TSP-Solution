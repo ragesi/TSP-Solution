{
 "cells": [
  {
   "cell_type": "markdown",
   "metadata": {
    "id": "hwsGGLzL4I0B"
   },
   "source": [
    "# Quantum Spectral Clustering for Image Segmentation\n",
    "\n",
    "Image processing algorithms are on the rise. They are used for recognition of objects or features in the image. For example, facial recognition or matching fingerprints [1, 2]. Image segmentation is a sub-area of image processing that tries to distinguish different objects or features from the background.\n",
    "\n",
    "There are many image segmentation algorithms, but we are going to focus in [3]. Considering quantum computing, there is one algorith that uses the Qauntum Approximate Optimization Algorithm (QAOA) for image segmentation [4]. \n",
    "\n",
    "In this chapter we will provide a Quantum Hybrid Algorithm for image segmentation based on normalized cuts. First, we will explain a little bit of spectral clustering and provide an algorithm based on normalized cuts. Then, we will define the Flexible Representation of Quantum Images (FRQI) [5] state to explain a new quantum subroutine for estimating the distance value between pixel values. Finally, we wil provide a small recall of what QAOA is and its use for normalized cuts.\n"
   ]
  },
  {
   "cell_type": "markdown",
   "metadata": {
    "id": "XYCnyP4eDc2B"
   },
   "source": [
    "Let us start installing Qiskit on the Google Colab"
   ]
  },
  {
   "cell_type": "code",
   "execution_count": null,
   "metadata": {
    "colab": {
     "base_uri": "https://localhost:8080/"
    },
    "executionInfo": {
     "elapsed": 41629,
     "status": "ok",
     "timestamp": 1648248501677,
     "user": {
      "displayName": "Jose Ignacio Espinoza",
      "photoUrl": "https://lh3.googleusercontent.com/a/default-user=s64",
      "userId": "11029753741418381231"
     },
     "user_tz": 360
    },
    "id": "PvmB-WfiQ1zp",
    "outputId": "33ddfacc-5c93-400e-f59a-2830f7ea3f8e"
   },
   "outputs": [
    {
     "name": "stdout",
     "output_type": "stream",
     "text": [
      "Collecting qiskit\n",
      "  Downloading qiskit-0.34.2.tar.gz (13 kB)\n",
      "Collecting qiskit-terra==0.19.2\n",
      "  Downloading qiskit_terra-0.19.2-cp37-cp37m-manylinux_2_12_x86_64.manylinux2010_x86_64.whl (6.5 MB)\n",
      "\u001b[K     |████████████████████████████████| 6.5 MB 5.4 MB/s \n",
      "\u001b[?25hCollecting qiskit-aer==0.10.3\n",
      "  Downloading qiskit_aer-0.10.3-cp37-cp37m-manylinux_2_12_x86_64.manylinux2010_x86_64.whl (18.0 MB)\n",
      "\u001b[K     |████████████████████████████████| 18.0 MB 1.4 MB/s \n",
      "\u001b[?25hCollecting qiskit-ibmq-provider==0.18.3\n",
      "  Downloading qiskit_ibmq_provider-0.18.3-py3-none-any.whl (238 kB)\n",
      "\u001b[K     |████████████████████████████████| 238 kB 29.6 MB/s \n",
      "\u001b[?25hCollecting qiskit-ignis==0.7.0\n",
      "  Downloading qiskit_ignis-0.7.0-py3-none-any.whl (200 kB)\n",
      "\u001b[K     |████████████████████████████████| 200 kB 46.7 MB/s \n",
      "\u001b[?25hRequirement already satisfied: scipy>=1.0 in /usr/local/lib/python3.7/dist-packages (from qiskit-aer==0.10.3->qiskit) (1.4.1)\n",
      "Requirement already satisfied: numpy>=1.16.3 in /usr/local/lib/python3.7/dist-packages (from qiskit-aer==0.10.3->qiskit) (1.21.5)\n",
      "Collecting requests-ntlm>=1.1.0\n",
      "  Downloading requests_ntlm-1.1.0-py2.py3-none-any.whl (5.7 kB)\n",
      "Requirement already satisfied: python-dateutil>=2.8.0 in /usr/local/lib/python3.7/dist-packages (from qiskit-ibmq-provider==0.18.3->qiskit) (2.8.2)\n",
      "Requirement already satisfied: urllib3>=1.21.1 in /usr/local/lib/python3.7/dist-packages (from qiskit-ibmq-provider==0.18.3->qiskit) (1.24.3)\n",
      "Requirement already satisfied: requests>=2.19 in /usr/local/lib/python3.7/dist-packages (from qiskit-ibmq-provider==0.18.3->qiskit) (2.23.0)\n",
      "Collecting websocket-client>=1.0.1\n",
      "  Downloading websocket_client-1.3.1-py3-none-any.whl (54 kB)\n",
      "\u001b[K     |████████████████████████████████| 54 kB 1.6 MB/s \n",
      "\u001b[?25hRequirement already satisfied: setuptools>=40.1.0 in /usr/local/lib/python3.7/dist-packages (from qiskit-ignis==0.7.0->qiskit) (57.4.0)\n",
      "Collecting retworkx>=0.8.0\n",
      "  Downloading retworkx-0.11.0-cp37-cp37m-manylinux_2_5_x86_64.manylinux1_x86_64.manylinux_2_12_x86_64.manylinux2010_x86_64.whl (1.6 MB)\n",
      "\u001b[K     |████████████████████████████████| 1.6 MB 46.7 MB/s \n",
      "\u001b[?25hCollecting tweedledum<2.0,>=1.1\n",
      "  Downloading tweedledum-1.1.1-cp37-cp37m-manylinux_2_12_x86_64.manylinux2010_x86_64.whl (943 kB)\n",
      "\u001b[K     |████████████████████████████████| 943 kB 42.1 MB/s \n",
      "\u001b[?25hRequirement already satisfied: sympy>=1.3 in /usr/local/lib/python3.7/dist-packages (from qiskit-terra==0.19.2->qiskit) (1.7.1)\n",
      "Collecting python-constraint>=1.4\n",
      "  Downloading python-constraint-1.4.0.tar.bz2 (18 kB)\n",
      "Collecting symengine>=0.8\n",
      "  Downloading symengine-0.9.2-cp37-cp37m-manylinux2010_x86_64.whl (37.5 MB)\n",
      "\u001b[K     |████████████████████████████████| 37.5 MB 1.4 MB/s \n",
      "\u001b[?25hCollecting ply>=3.10\n",
      "  Downloading ply-3.11-py2.py3-none-any.whl (49 kB)\n",
      "\u001b[K     |████████████████████████████████| 49 kB 5.0 MB/s \n",
      "\u001b[?25hCollecting stevedore>=3.0.0\n",
      "  Downloading stevedore-3.5.0-py3-none-any.whl (49 kB)\n",
      "\u001b[K     |████████████████████████████████| 49 kB 5.3 MB/s \n",
      "\u001b[?25hRequirement already satisfied: dill>=0.3 in /usr/local/lib/python3.7/dist-packages (from qiskit-terra==0.19.2->qiskit) (0.3.4)\n",
      "Requirement already satisfied: psutil>=5 in /usr/local/lib/python3.7/dist-packages (from qiskit-terra==0.19.2->qiskit) (5.4.8)\n",
      "Collecting scipy>=1.0\n",
      "  Downloading scipy-1.7.3-cp37-cp37m-manylinux_2_12_x86_64.manylinux2010_x86_64.whl (38.1 MB)\n",
      "\u001b[K     |████████████████████████████████| 38.1 MB 1.6 MB/s \n",
      "\u001b[?25hRequirement already satisfied: six>=1.5 in /usr/local/lib/python3.7/dist-packages (from python-dateutil>=2.8.0->qiskit-ibmq-provider==0.18.3->qiskit) (1.15.0)\n",
      "Requirement already satisfied: chardet<4,>=3.0.2 in /usr/local/lib/python3.7/dist-packages (from requests>=2.19->qiskit-ibmq-provider==0.18.3->qiskit) (3.0.4)\n",
      "Requirement already satisfied: idna<3,>=2.5 in /usr/local/lib/python3.7/dist-packages (from requests>=2.19->qiskit-ibmq-provider==0.18.3->qiskit) (2.10)\n",
      "Requirement already satisfied: certifi>=2017.4.17 in /usr/local/lib/python3.7/dist-packages (from requests>=2.19->qiskit-ibmq-provider==0.18.3->qiskit) (2021.10.8)\n",
      "Collecting ntlm-auth>=1.0.2\n",
      "  Downloading ntlm_auth-1.5.0-py2.py3-none-any.whl (29 kB)\n",
      "Collecting cryptography>=1.3\n",
      "  Downloading cryptography-36.0.2-cp36-abi3-manylinux_2_24_x86_64.whl (3.6 MB)\n",
      "\u001b[K     |████████████████████████████████| 3.6 MB 11.6 MB/s \n",
      "\u001b[?25hRequirement already satisfied: cffi>=1.12 in /usr/local/lib/python3.7/dist-packages (from cryptography>=1.3->requests-ntlm>=1.1.0->qiskit-ibmq-provider==0.18.3->qiskit) (1.15.0)\n",
      "Requirement already satisfied: pycparser in /usr/local/lib/python3.7/dist-packages (from cffi>=1.12->cryptography>=1.3->requests-ntlm>=1.1.0->qiskit-ibmq-provider==0.18.3->qiskit) (2.21)\n",
      "Requirement already satisfied: importlib-metadata>=1.7.0 in /usr/local/lib/python3.7/dist-packages (from stevedore>=3.0.0->qiskit-terra==0.19.2->qiskit) (4.11.3)\n",
      "Collecting pbr!=2.1.0,>=2.0.0\n",
      "  Downloading pbr-5.8.1-py2.py3-none-any.whl (113 kB)\n",
      "\u001b[K     |████████████████████████████████| 113 kB 46.8 MB/s \n",
      "\u001b[?25hRequirement already satisfied: zipp>=0.5 in /usr/local/lib/python3.7/dist-packages (from importlib-metadata>=1.7.0->stevedore>=3.0.0->qiskit-terra==0.19.2->qiskit) (3.7.0)\n",
      "Requirement already satisfied: typing-extensions>=3.6.4 in /usr/local/lib/python3.7/dist-packages (from importlib-metadata>=1.7.0->stevedore>=3.0.0->qiskit-terra==0.19.2->qiskit) (3.10.0.2)\n",
      "Requirement already satisfied: mpmath>=0.19 in /usr/local/lib/python3.7/dist-packages (from sympy>=1.3->qiskit-terra==0.19.2->qiskit) (1.2.1)\n",
      "Building wheels for collected packages: qiskit, python-constraint\n",
      "  Building wheel for qiskit (setup.py) ... \u001b[?25l\u001b[?25hdone\n",
      "  Created wheel for qiskit: filename=qiskit-0.34.2-py3-none-any.whl size=11805 sha256=d29d40093b061d1dee0bd835410ef06878e90b67ccb308166fe013a69befec48\n",
      "  Stored in directory: /root/.cache/pip/wheels/62/77/65/cda6eedfdd2a525bd3f479a4386930ae3088a1eb01f8c944ed\n",
      "  Building wheel for python-constraint (setup.py) ... \u001b[?25l\u001b[?25hdone\n",
      "  Created wheel for python-constraint: filename=python_constraint-1.4.0-py2.py3-none-any.whl size=24081 sha256=12972953a83ae3daaa468f332d368ba838a8bd9bb12714ff3306410d6e8a7463\n",
      "  Stored in directory: /root/.cache/pip/wheels/07/27/db/1222c80eb1e431f3d2199c12569cb1cac60f562a451fe30479\n",
      "Successfully built qiskit python-constraint\n",
      "Installing collected packages: pbr, tweedledum, symengine, stevedore, scipy, retworkx, python-constraint, ply, ntlm-auth, cryptography, websocket-client, requests-ntlm, qiskit-terra, qiskit-ignis, qiskit-ibmq-provider, qiskit-aer, qiskit\n",
      "  Attempting uninstall: scipy\n",
      "    Found existing installation: scipy 1.4.1\n",
      "    Uninstalling scipy-1.4.1:\n",
      "      Successfully uninstalled scipy-1.4.1\n",
      "\u001b[31mERROR: pip's dependency resolver does not currently take into account all the packages that are installed. This behaviour is the source of the following dependency conflicts.\n",
      "albumentations 0.1.12 requires imgaug<0.2.7,>=0.2.5, but you have imgaug 0.2.9 which is incompatible.\u001b[0m\n",
      "Successfully installed cryptography-36.0.2 ntlm-auth-1.5.0 pbr-5.8.1 ply-3.11 python-constraint-1.4.0 qiskit-0.34.2 qiskit-aer-0.10.3 qiskit-ibmq-provider-0.18.3 qiskit-ignis-0.7.0 qiskit-terra-0.19.2 requests-ntlm-1.1.0 retworkx-0.11.0 scipy-1.7.3 stevedore-3.5.0 symengine-0.9.2 tweedledum-1.1.1 websocket-client-1.3.1\n"
     ]
    }
   ],
   "source": [
    "pip install qiskit"
   ]
  },
  {
   "cell_type": "markdown",
   "metadata": {
    "id": "Xze9hl5YDpcP"
   },
   "source": [
    "## Spectral clustering\n",
    "\n",
    "Spectral clustering is a family of clustering algorithms that use eigenvalues and eigenvectors to partition data into different classes. This family of algorithms inherits its name from the spectrum of a matrix, which is the set of its eigenvalues.\n",
    "\n",
    "Spectral clustering is an unsupervised and transductive family of machine learning algorithms; it is unsupervised because data is not labeled or we do not know it a priori, and it is transductive because it is not usual to use spectral clustering to extend the results to never-seen data points [6]."
   ]
  },
  {
   "cell_type": "markdown",
   "metadata": {
    "id": "S8w99naKE9Zt"
   },
   "source": [
    "Basically, spectral clustering algorithms consists on grouping datapoints based on the eigenvectors of a representative matrix. The general algorithm have the following steps:\n",
    "1. Graph construction:  given $n$ data points, build a similarity graph.\n",
    "2. Spectral embedding:  given a representative matrix, usually the Laplacian matrix, compute the first $k$ eigenvalues and eigenvectors.\n",
    "3. Clustering: data is divided into k clusters "
   ]
  },
  {
   "cell_type": "code",
   "execution_count": 3,
   "metadata": {
    "id": "Lt7zCrY-JQlj"
   },
   "outputs": [],
   "source": [
    "import matplotlib.pyplot as plt\n",
    "import numpy as np\n",
    "from sklearn.feature_extraction import image\n",
    "import scipy.sparse.linalg as sla\n",
    "from scipy.sparse import coo_matrix"
   ]
  },
  {
   "cell_type": "markdown",
   "metadata": {
    "id": "I6KhxlcLI92V"
   },
   "source": [
    "We have the following image and we want to divide it into two dfferent segments:"
   ]
  },
  {
   "cell_type": "code",
   "execution_count": 5,
   "metadata": {
    "colab": {
     "base_uri": "https://localhost:8080/",
     "height": 343
    },
    "executionInfo": {
     "elapsed": 543,
     "status": "ok",
     "timestamp": 1648248502716,
     "user": {
      "displayName": "Jose Ignacio Espinoza",
      "photoUrl": "https://lh3.googleusercontent.com/a/default-user=s64",
      "userId": "11029753741418381231"
     },
     "user_tz": 360
    },
    "id": "coF19K2VNuDa",
    "outputId": "d7c5fa56-2564-4b89-cc51-bb99b885f06e"
   },
   "outputs": [
    {
     "data": {
      "text/plain": [
       "<matplotlib.colorbar.Colorbar at 0x20fc3b86320>"
      ]
     },
     "execution_count": 5,
     "metadata": {},
     "output_type": "execute_result"
    },
    {
     "data": {
      "text/plain": [
       "<Figure size 640x480 with 0 Axes>"
      ]
     },
     "metadata": {},
     "output_type": "display_data"
    },
    {
     "data": {
      "image/png": "[encoded data removed]",
      "text/plain": [
       "<Figure size 480x480 with 2 Axes>"
      ]
     },
     "metadata": {},
     "output_type": "display_data"
    }
   ],
   "source": [
    "Square = np.array([[63, 8, 82, 72], [129, 165, 248, 230], [131, 137, 239, 217], [55, 127, 184, 76]])\n",
    "plt.figure()\n",
    "plt.matshow(Square, cmap=plt.get_cmap('gray'))\n",
    "plt.colorbar()"
   ]
  },
  {
   "cell_type": "markdown",
   "metadata": {
    "id": "_GSthNOrJ5kH"
   },
   "source": [
    "We know that there are three different classes, the pixels with blackish values, pixels with gray vlaues and pixels with whitish values. The question is, how does the computer knows how to group those pixels into two different segments?\n",
    "\n",
    "We could think to segment by certain pixel value, which it is a fanastic idea. However, for more complex images it could be a problem. Or perhaps using a classification algorithm on the image. Nonetheless, some algorithms like KMeans rely on the fact that the pixel values do not have an underlying structure, like an image has."
   ]
  },
  {
   "cell_type": "markdown",
   "metadata": {
    "id": "r6iBuKyPJKDo"
   },
   "source": [
    "Let us explain the algorithm. \n",
    "\n"
   ]
  },
  {
   "cell_type": "markdown",
   "metadata": {
    "id": "JeJYl_7WKAkY"
   },
   "source": [
    "### 1. Graph Construction\n",
    "\n",
    "The first part of any spectral clustering algorithm is Graph Construction. Let us introduce some graph notations and concepts.  "
   ]
  },
  {
   "cell_type": "markdown",
   "metadata": {
    "id": "cUsDJD-UO5dF"
   },
   "source": [
    "Let $G=(V,E,W)$ be a weighted undirected and connected graph with a set of vertices $V=\\{v_1,v_2,\\dots,v_n\\}$ and a set of edges $E$ such that $e_{ij}=(v_i,v_j)$ an edge exists if the vertex $v_i$ is connected with $v_j$. It is called weighted graph because each edge $e_{ij}$ has a non-negative weight $w_{ij} \\geq 0$. As $G$ is an undirected graph, $w_{ij}=w_{ji}$ is satisfied. We denote the adjacency matrix $W$ as:\n",
    "\n",
    "$$w_{ij} = \\left\\{\\begin{array}{rcl}s_{ij}& \\mbox{if} & v_i \\mbox{ and }v_j \\mbox{ are connected}\\\\ 0  & \\mbox{if} & v_i \\mbox{ and }v_j \\mbox{ are not connected}\\end{array}\\right.$$\n",
    "\n",
    "The similarity measure is a function that calculates the closeness of pairwise data. In our case, we will use the Gaussian Radial Basis Function (RBF). The RBF is defined as:\n",
    "\n",
    "$$s_{ij}=e^{-\\frac{\\|x_i-x_j\\|_2^2}{\\sigma^2}}$$\n",
    "\n",
    "Where $\\|.\\|_2$ is the Euclidean distance, $\\sigma$ is a parameter that controls the width of the neighborhoods. Usually, $\\sigma$ is calculated as the $10-20\\%$ of the distance of the two outermost points of the graph [3]. \n",
    "\n",
    "If we talk about images, they have an underlying structure. Pixels cannot move, they have a $\\textit{rigid}$  neighbors. For example, the graph of our $4\\times 4$ image  image should look like\n",
    "\n",
    "$$\\circ-\\circ-\\circ-\\circ$$\n",
    "$$|\\quad\\;\\,|\\quad\\;\\,|\\quad\\;\\,|$$\n",
    "$$\\circ-\\circ-\\circ-\\circ$$\n",
    "$$|\\quad\\;\\,|\\quad\\;\\,|\\quad\\;\\,|$$\n",
    "$$\\circ-\\circ-\\circ-\\circ$$\n",
    "$$|\\quad\\;\\,|\\quad\\;\\,|\\quad\\;\\,|$$\n",
    "$$\\circ-\\circ-\\circ-\\circ$$\n",
    "\n",
    "where $\\circ$ represent the vertices and $|$ or $-$ the edges. Such graph formation is called a 4 neighborhood graph. The center pixel has at most 4 adjacent pixels. Hence, the adjacecny matrix should be a $(4\\times4)\\times(4\\times4)$ matrix. \n",
    "\n",
    "The $\\textit{weighted}\\,$ degree of a vertex, $d_{i}$, is calculated as the sum of the weighted edges incident to $v_i$\n",
    "\n",
    "$$d_i = \\sum_{j=1}^n w_{ij}$$\n",
    "\n",
    "The Degree matrix has in its diagonal elements the degree of each vertex. Let us define the normalized Laplacian matrix\n",
    "\n",
    "$$L= D^{-1/2}L_{un}D^{-1/2} =  I - D^{-1/2}WD^{-1/2}$$\n",
    "\n",
    "The normalized Laplacian matrix is another way to represent a graph. It is a symmetric and positive semidefinite matrix. "
   ]
  },
  {
   "cell_type": "code",
   "execution_count": 17,
   "metadata": {
    "colab": {
     "base_uri": "https://localhost:8080/",
     "height": 1000
    },
    "executionInfo": {
     "elapsed": 63,
     "status": "ok",
     "timestamp": 1648248502719,
     "user": {
      "displayName": "Jose Ignacio Espinoza",
      "photoUrl": "https://lh3.googleusercontent.com/a/default-user=s64",
      "userId": "11029753741418381231"
     },
     "user_tz": 360
    },
    "id": "AfAZD3AONWxq",
    "outputId": "ff607007-0dc4-48e4-e03d-18028e59174d"
   },
   "outputs": [
    {
     "data": {
      "text/plain": [
       "array([[0.00000000e+00, 3.55656315e-01, 0.00000000e+00, 0.00000000e+00,\n",
       "        2.25675262e-01, 0.00000000e+00, 0.00000000e+00, 0.00000000e+00,\n",
       "        0.00000000e+00, 0.00000000e+00, 0.00000000e+00, 0.00000000e+00,\n",
       "        0.00000000e+00, 0.00000000e+00, 0.00000000e+00, 0.00000000e+00],\n",
       "       [3.55656315e-01, 0.00000000e+00, 1.53905427e-01, 0.00000000e+00,\n",
       "        0.00000000e+00, 2.19585554e-04, 0.00000000e+00, 0.00000000e+00,\n",
       "        0.00000000e+00, 0.00000000e+00, 0.00000000e+00, 0.00000000e+00,\n",
       "        0.00000000e+00, 0.00000000e+00, 0.00000000e+00, 0.00000000e+00],\n",
       "       [0.00000000e+00, 1.53905427e-01, 0.00000000e+00, 9.66402476e-01,\n",
       "        0.00000000e+00, 0.00000000e+00, 8.13107204e-05, 0.00000000e+00,\n",
       "        0.00000000e+00, 0.00000000e+00, 0.00000000e+00, 0.00000000e+00,\n",
       "        0.00000000e+00, 0.00000000e+00, 0.00000000e+00, 0.00000000e+00],\n",
       "       [0.00000000e+00, 0.00000000e+00, 9.66402476e-01, 0.00000000e+00,\n",
       "        0.00000000e+00, 0.00000000e+00, 0.00000000e+00, 1.97174874e-04,\n",
       "        0.00000000e+00, 0.00000000e+00, 0.00000000e+00, 0.00000000e+00,\n",
       "        0.00000000e+00, 0.00000000e+00, 0.00000000e+00, 0.00000000e+00],\n",
       "       [2.25675262e-01, 0.00000000e+00, 0.00000000e+00, 0.00000000e+00,\n",
       "        0.00000000e+00, 6.42167199e-01, 0.00000000e+00, 0.00000000e+00,\n",
       "        9.98633938e-01, 0.00000000e+00, 0.00000000e+00, 0.00000000e+00,\n",
       "        0.00000000e+00, 0.00000000e+00, 0.00000000e+00, 0.00000000e+00],\n",
       "       [0.00000000e+00, 2.19585554e-04, 0.00000000e+00, 0.00000000e+00,\n",
       "        6.42167199e-01, 0.00000000e+00, 9.49591792e-02, 0.00000000e+00,\n",
       "        0.00000000e+00, 7.64960456e-01, 0.00000000e+00, 0.00000000e+00,\n",
       "        0.00000000e+00, 0.00000000e+00, 0.00000000e+00, 0.00000000e+00],\n",
       "       [0.00000000e+00, 0.00000000e+00, 8.13107204e-05, 0.00000000e+00,\n",
       "        0.00000000e+00, 9.49591792e-02, 0.00000000e+00, 8.95183420e-01,\n",
       "        0.00000000e+00, 0.00000000e+00, 9.72697965e-01, 0.00000000e+00,\n",
       "        0.00000000e+00, 0.00000000e+00, 0.00000000e+00, 0.00000000e+00],\n",
       "       [0.00000000e+00, 0.00000000e+00, 0.00000000e+00, 1.97174874e-04,\n",
       "        0.00000000e+00, 0.00000000e+00, 8.95183420e-01, 0.00000000e+00,\n",
       "        0.00000000e+00, 0.00000000e+00, 0.00000000e+00, 9.43880638e-01,\n",
       "        0.00000000e+00, 0.00000000e+00, 0.00000000e+00, 0.00000000e+00],\n",
       "       [0.00000000e+00, 0.00000000e+00, 0.00000000e+00, 0.00000000e+00,\n",
       "        9.98633938e-01, 0.00000000e+00, 0.00000000e+00, 0.00000000e+00,\n",
       "        0.00000000e+00, 9.87772412e-01, 0.00000000e+00, 0.00000000e+00,\n",
       "        1.38908249e-01, 0.00000000e+00, 0.00000000e+00, 0.00000000e+00],\n",
       "       [0.00000000e+00, 0.00000000e+00, 0.00000000e+00, 0.00000000e+00,\n",
       "        0.00000000e+00, 7.64960456e-01, 0.00000000e+00, 0.00000000e+00,\n",
       "        9.87772412e-01, 0.00000000e+00, 2.85655008e-02, 0.00000000e+00,\n",
       "        0.00000000e+00, 9.66402476e-01, 0.00000000e+00, 0.00000000e+00],\n",
       "       [0.00000000e+00, 0.00000000e+00, 0.00000000e+00, 0.00000000e+00,\n",
       "        0.00000000e+00, 0.00000000e+00, 9.72697965e-01, 0.00000000e+00,\n",
       "        0.00000000e+00, 2.85655008e-02, 0.00000000e+00, 8.47549133e-01,\n",
       "        0.00000000e+00, 0.00000000e+00, 3.55656315e-01, 0.00000000e+00],\n",
       "       [0.00000000e+00, 0.00000000e+00, 0.00000000e+00, 0.00000000e+00,\n",
       "        0.00000000e+00, 0.00000000e+00, 0.00000000e+00, 9.43880638e-01,\n",
       "        0.00000000e+00, 0.00000000e+00, 8.47549133e-01, 0.00000000e+00,\n",
       "        0.00000000e+00, 0.00000000e+00, 0.00000000e+00, 1.12013073e-03],\n",
       "       [0.00000000e+00, 0.00000000e+00, 0.00000000e+00, 0.00000000e+00,\n",
       "        0.00000000e+00, 0.00000000e+00, 0.00000000e+00, 0.00000000e+00,\n",
       "        1.38908249e-01, 0.00000000e+00, 0.00000000e+00, 0.00000000e+00,\n",
       "        0.00000000e+00, 1.70056202e-01, 0.00000000e+00, 0.00000000e+00],\n",
       "       [0.00000000e+00, 0.00000000e+00, 0.00000000e+00, 0.00000000e+00,\n",
       "        0.00000000e+00, 0.00000000e+00, 0.00000000e+00, 0.00000000e+00,\n",
       "        0.00000000e+00, 9.66402476e-01, 0.00000000e+00, 0.00000000e+00,\n",
       "        1.70056202e-01, 0.00000000e+00, 3.29446213e-01, 0.00000000e+00],\n",
       "       [0.00000000e+00, 0.00000000e+00, 0.00000000e+00, 0.00000000e+00,\n",
       "        0.00000000e+00, 0.00000000e+00, 0.00000000e+00, 0.00000000e+00,\n",
       "        0.00000000e+00, 0.00000000e+00, 3.55656315e-01, 0.00000000e+00,\n",
       "        0.00000000e+00, 3.29446213e-01, 0.00000000e+00, 1.85709050e-02],\n",
       "       [0.00000000e+00, 0.00000000e+00, 0.00000000e+00, 0.00000000e+00,\n",
       "        0.00000000e+00, 0.00000000e+00, 0.00000000e+00, 0.00000000e+00,\n",
       "        0.00000000e+00, 0.00000000e+00, 0.00000000e+00, 1.12013073e-03,\n",
       "        0.00000000e+00, 0.00000000e+00, 1.85709050e-02, 0.00000000e+00]])"
      ]
     },
     "metadata": {},
     "output_type": "display_data"
    }
   ],
   "source": [
    "# Initialize the graph with the 4-neighbor graph\n",
    "graph = image.img_to_graph(Square)\n",
    "\n",
    "# As Intensities can have values between 0-255, \n",
    "#we use the sigma value with 15% of 255\n",
    "sigma = 255*0.15\n",
    "graph.data = np.exp(-np.square(graph.data / sigma)/2) # This is called the Kernel Matrix\n",
    "\n",
    "# Now, let us compute the adjacency Matrix\n",
    "adjacency = graph.toarray()-np.diag(np.diag(graph.toarray()))\n",
    "display(adjacency)\n",
    "\n",
    "# With that info, let us calculate the Degree matrix\n",
    "degree = np.matrix(np.diag(np.sqrt(np.power(adjacency.sum(axis=1),-1))))\n",
    "\n",
    "# Now, let us compute the Normalized Laplacian\n",
    "adjacency_normalized_cuts = np.matmul(degree,np.matmul(adjacency,degree))\n",
    "L = np.matrix(np.eye(adjacency.shape[0]))-adjacency_normalized_cuts\n",
    "Laplacian = coo_matrix(L)"
   ]
  },
  {
   "cell_type": "markdown",
   "metadata": {
    "id": "M1EpMlpXsA1P"
   },
   "source": [
    "### 2. Eigendecomposition\n",
    "At this stage, we have to calculate the eigenvalues and their corresponding eigenvectors of the normalized Laplacian matrix. With the eigenvectors corresponding to the $k$ smallest eigenvalues, we ensemble the eigenvector matrix $\\textit{V}$ with $\\textit{n}$ rows and $\\textit{k}$ columns."
   ]
  },
  {
   "cell_type": "code",
   "execution_count": null,
   "metadata": {
    "id": "HwEYGw80rTZO"
   },
   "outputs": [],
   "source": [
    "# Use the 6 smallest \n",
    "eigenvalues, eigenvectors = sla.eigs(Laplacian, 6, which='SM') "
   ]
  },
  {
   "cell_type": "markdown",
   "metadata": {
    "id": "EPsC1rNPYVQl"
   },
   "source": [
    "### 3. Clustering\n",
    "Once the eigenvalues and their corresponding eigenvectors were omputed, we have to calculate the corresponding graph cut. \n",
    "\n",
    "$\\,$\n",
    "\n",
    "For a bipartition of the graph, we can cluster the datapoints with the eigenvector corresponding to the second smallest eigenvalue of the Laplacian Matrix. In this work, we use the 0 as the threshold to cluster data points.\n",
    "\n",
    "When we use the scipy function $\\textit{eigs}$ we have to select the smallest eigenvalues and their corrsponding eigenvectors. However, sometimes this function throws the 6 smallest eigenvalues unsorted. Thus, we have to sort the eigenvalues and use the correct eigenvector. "
   ]
  },
  {
   "cell_type": "code",
   "execution_count": null,
   "metadata": {
    "id": "QdPyuE7GfmE-"
   },
   "outputs": [],
   "source": [
    "# Let us initialize the V matrix with the same number of rows and columns\n",
    "V = np.zeros(eigenvectors.shape)  # .shape throws the rows and columns\n",
    "for i in range(eigenvectors.shape[0]): # number of rows\n",
    "    for j in range(eigenvectors.shape[1]): # number of columns\n",
    "        if eigenvectors[i,j] > 0:  # above 0 belongs to one cluster\n",
    "            V[i,j] = 1\n",
    "        else:\n",
    "            V[i,j] = 0\n",
    "\n",
    "# sort the eigenvalues\n",
    "index = np.argsort(eigenvalues)"
   ]
  },
  {
   "cell_type": "markdown",
   "metadata": {
    "id": "pkrNb5K2k2Hm"
   },
   "source": [
    "Now, let us see the original image and the segmented image "
   ]
  },
  {
   "cell_type": "code",
   "execution_count": null,
   "metadata": {
    "colab": {
     "base_uri": "https://localhost:8080/",
     "height": 302
    },
    "executionInfo": {
     "elapsed": 341,
     "status": "ok",
     "timestamp": 1648248503021,
     "user": {
      "displayName": "Jose Ignacio Espinoza",
      "photoUrl": "https://lh3.googleusercontent.com/a/default-user=s64",
      "userId": "11029753741418381231"
     },
     "user_tz": 360
    },
    "id": "UdWJO3dNlC6M",
    "outputId": "9feb3fd4-fa3e-4ca0-dcb3-405a02cfafab"
   },
   "outputs": [
    {
     "data": {
      "image/png": "[encoded data removed]",
      "text/plain": [
       "<Figure size 504x504 with 2 Axes>"
      ]
     },
     "metadata": {
      "needs_background": "light"
     },
     "output_type": "display_data"
    }
   ],
   "source": [
    "fig, axs = plt.subplots(1,2, figsize = (7,7), constrained_layout=True, sharey=True)\n",
    "# show the clusters \n",
    "axs[0].matshow(Square, cmap=plt.get_cmap('gray'))\n",
    "axs[1].matshow(V[:,index[1]].reshape(Square.shape), cmap=plt.get_cmap('gray'))\n",
    "axs[0].set_title('Original Image', ha=\"center\", va=\"center\", color=\"k\", fontsize=20, fontweight = 'medium')\n",
    "axs[1].set_title('Image Segmented', ha=\"center\", va=\"center\", color=\"k\", fontsize=20, fontweight = 'medium')\n",
    "for i in range(2):\n",
    "  axs[i].set_xticks(np.arange(-0.5,4.5))\n",
    "  axs[i].set_yticks(np.arange(-0.5,4.5))\n",
    "  axs[i].set_xticklabels([])\n",
    "  axs[i].set_yticklabels([])\n",
    "plt.show()"
   ]
  },
  {
   "cell_type": "markdown",
   "metadata": {
    "id": "bJje6Jrsa6wO"
   },
   "source": [
    "With the following functions we can know the cut size of the segmented image:"
   ]
  },
  {
   "cell_type": "code",
   "execution_count": 7,
   "metadata": {
    "colab": {
     "base_uri": "https://localhost:8080/"
    },
    "executionInfo": {
     "elapsed": 171,
     "status": "ok",
     "timestamp": 1648248657439,
     "user": {
      "displayName": "Jose Ignacio Espinoza",
      "photoUrl": "https://lh3.googleusercontent.com/a/default-user=s64",
      "userId": "11029753741418381231"
     },
     "user_tz": 360
    },
    "id": "_AL06fxdbFVI",
    "outputId": "09fdcdc7-fffd-4280-f2b6-3a2729b1df18"
   },
   "outputs": [],
   "source": [
    "import networkx as nx\n",
    "import pandas as pd\n",
    "\n",
    "def compute_edges(adjacency_matrix):\n",
    "    \"\"\"\n",
    "    Function to compute the edges of a graph representation (adjacency matrix)\n",
    "\n",
    "    Input: \n",
    "    - adjacency_matrix: array, 2D array of (pq)*(pq) positions from a p cols and q rows image\n",
    "\n",
    "    Output: \n",
    "    - edges: list, egdes list of the form [(node_1, node_2),...,(node_n, node_n-1)]\n",
    "             whenever node_n and node_m are neighbors\n",
    "    \"\"\"\n",
    "    edges = [] # Initialize the list\n",
    "    for row in range(adjacency_matrix.shape[0]):\n",
    "        for col in range(adjacency_matrix.shape[1]): # for every column and row, do\n",
    "            if adjacency_matrix[row, col]!=0 and row!=col: # Except when the values of the adj matrix are 0\n",
    "                edges.append((row, col)) # Append the value of the column and row\n",
    "    return edges\n",
    "\n",
    "def create_network(adjacency_matrix, edges):\n",
    "    \"\"\"\n",
    "    Function to create a graph/network from an adjacency matrix and the list of edges\n",
    "\n",
    "    Input: \n",
    "    - adjacency_matrix: array, 2D array of (pq)*(pq) positions from a p cols and q rows image\n",
    "    - edges: list, egdes list of the form [(node_1, node_2),...,(node_n, node_n-1)]\n",
    "             whenever node_n and node_m are neighbors\n",
    "\n",
    "    Output: \n",
    "    - working_graph: nx graph\n",
    "    - number_of_pixels: int, information about how many pixels the image has\n",
    "    \"\"\"\n",
    "    # Identify working pixels\n",
    "    number_of_pixels = adjacency_matrix.shape[0]\n",
    "\n",
    "    # Populate a networkx graph with pixels as nodes.\n",
    "    working_graph = nx.Graph()\n",
    "    for node in range(number_of_pixels):\n",
    "        working_graph.add_node(node)\n",
    "\n",
    "    # Pair up all neighbors with random weights in working_graph.\n",
    "    for pixel in edges:\n",
    "        working_graph.add_edge(pixel[0], pixel[1], weight=adjacency_matrix[pixel[0], pixel[1]])\n",
    "\n",
    "    return working_graph, number_of_pixels\n",
    "\n",
    "# Compute the size of the cut\n",
    "def compute_cut_size(labels, graph):\n",
    "    \"\"\"\n",
    "    Function to compute the cut size of a graph given a segmentation list\n",
    "\n",
    "    Input: \n",
    "    - labels: list or 1D array, list of labels/segment\n",
    "    - graph: nx graph\n",
    "\n",
    "    Output: \n",
    "    - cut_size: int, a number corresponding to the normalized cut size\n",
    "    \"\"\"\n",
    "    A_partition, B_partition = compute_partition_segments(labels, graph)\n",
    "    cut_size = nx.normalized_cut_size(graph, A_partition, B_partition, weight='weight')\n",
    "    return cut_size\n",
    "\n",
    "\n",
    "\n",
    "def compute_partition_segments(labels, graph):\n",
    "    \"\"\"\n",
    "    Given the segmentation in a list and the working graph, thid function computes \n",
    "    the list of the 2 subclasses\n",
    "\n",
    "    Input:\n",
    "    - labels: list or numpy array, it has the following form [0,1,0,1], where \n",
    "              0 belongs to subclass A, and 1 to B\n",
    "    - graph: nx graph\n",
    "\n",
    "    Output:\n",
    "    - A_partition: set, information about which nodes belong to segment A\n",
    "    - A_partition: set, information about which nodes belong to segment B\n",
    "    \"\"\"\n",
    "    df = pd.Series(labels) # initialize a dataframe with the segment/labels array\n",
    "    one_qubits = set(df[df==1].index) \n",
    "    A_partition = set()\n",
    "    B_partition = set()\n",
    "\n",
    "    for node in graph:\n",
    "        if node in one_qubits:\n",
    "            # If a one was measured add node to S partition.\n",
    "            A_partition.add(node)\n",
    "        else:\n",
    "            # Otherwise a zero was measured so add to T partition.\n",
    "            B_partition.add(node)\n",
    "    return A_partition, B_partition\n",
    "\n",
    "\n",
    "# edges = compute_edges(adjacency)\n",
    "# nx_graph, pixels = create_network(adjacency, edges)\n",
    "# cut_size = compute_cut_size(V[:,index[1]], nx_graph)\n",
    "# print(\"Normalized Cut: \", cut_size)"
   ]
  },
  {
   "cell_type": "markdown",
   "metadata": {
    "id": "2gVX0ELDoevP"
   },
   "source": [
    "## Quantum Spectral Clustering"
   ]
  },
  {
   "cell_type": "code",
   "execution_count": 8,
   "metadata": {
    "id": "Ybq2-AOtYJgA"
   },
   "outputs": [],
   "source": [
    "from numpy import pi\n",
    "\n",
    "# importing qiskit libraries \n",
    "from qiskit import QuantumCircuit, transpile, Aer, IBMQ, assemble, execute, BasicAer, ClassicalRegister, QuantumRegister\n",
    "from qiskit.quantum_info.operators import Operator\n",
    "from qiskit.tools.jupyter import *\n",
    "from qiskit.visualization import *\n",
    "from qiskit.visualization import plot_histogram\n",
    "from qiskit.circuit import Gate, Parameter\n",
    "from qiskit.providers.aer import QasmSimulator\n",
    "from qiskit.providers.basicaer import QasmSimulatorPy\n",
    "from qiskit.compiler import transpile\n",
    "from qiskit.quantum_info.operators import Operator, Pauli\n",
    "from qiskit.circuit.library.standard_gates import RYGate"
   ]
  },
  {
   "cell_type": "markdown",
   "metadata": {
    "id": "zHBwFweuDqyy"
   },
   "source": [
    "On a similar way, this Quantum Spectral Clustering algorithm is composed by a similar structure. However, we do not use an eigendecomposition of the Laplacian Matrix. "
   ]
  },
  {
   "cell_type": "markdown",
   "metadata": {
    "id": "s6sr52xNeznG"
   },
   "source": [
    "### 1. Graph Construction\n",
    "\n",
    "As in the classical Spectral Clustering, we use the normalized adjacency matrix to represent the graph. We use images instead of datapoints, hence we have to use algorithms for image representation. Let us recall the Flexible Representation of Quantum Images (FRQI):"
   ]
  },
  {
   "cell_type": "markdown",
   "metadata": {
    "id": "tg7qwGNvFFl9"
   },
   "source": [
    "__Definition 1__ The FRQI state is defined as [5]:\n",
    "\n",
    "$$|I(\\theta)\\rangle = \\frac{1}{2^n}\\sum_{i=0}^{2^{2n}-1}(\\cos{\\theta_i}|0\\rangle+\\sin{\\theta_i}|1\\rangle)\\otimes |i\\rangle$$\n",
    "\n",
    "where $\\theta_i\\in\\left[0,\\frac{\\theta}{2}\\right]$ for $i=0,1,\\dots,2^{2n}-1$ and $n=\\log{(columns)}=\\log{(rows)}$\n",
    "\n",
    "The input for such quantum algorithm is a set of angles $\\theta =(\\theta_1,\\theta_2,\\dots,\\theta_{2^{2n}-1})$.\n",
    "\n",
    "The FRQI state can be obtained by applying:\n",
    "\n",
    "1. Haddamard gates such that:\n",
    "$$\\mathcal{H}=I\\otimes H^{\\otimes 2n}$$\n",
    "$$\\mathcal{H}|0\\rangle^{\\otimes2n+1}=\\frac{1}{\\sqrt{2^{2n}}}|0\\rangle\\otimes\\sum_{i=0}^{2^{2n}-1}|i\\rangle$$\n",
    "\n",
    "1. Apply controlled-rotation transform such that:\n",
    "$$\\mathcal{R}=\\prod_{i=0}^{2^{2n}-1}\\left(R_i\\right)$$\n",
    "where $R_i$ is the controlled rotation gate:\n",
    "$$R_i=I\\otimes\\sum_{j=0,j\\neq i}^{2^{2n}-1}|j\\rangle\\langle j|+R_Y(\\theta_i)\\otimes |i\\rangle\\langle i|$$\n",
    "and $R_Y$ is the Y-Rotation gate:\n",
    "$$R_Y(\\theta)=\\begin{bmatrix}\\cos{\\theta/2}&-\\sin{\\theta/2}\\\\\\sin{\\theta/2}&\\cos{\\theta/2}\\end{bmatrix}$$"
   ]
  },
  {
   "cell_type": "markdown",
   "metadata": {
    "id": "Eqv75HETj-gw"
   },
   "source": [
    "With this information we can define a new pixel distance estimation. \n",
    "\n",
    "__Definition 2__ The Quantum pixel distance estimation is defined as:\n",
    "$$\\mathcal{D}|0\\rangle^{\\otimes 2n+1}\\rightarrow\\frac{1}{2^n}\\sum_{i=0}^{2^{2n}-1}(\\cos{(\\theta_i-\\vartheta)}|0\\rangle+\\sin{(\\theta_i-\\vartheta)}|1\\rangle)|i\\rangle$$\n",
    "where $\\vartheta$ and $\\theta$ are the angles that contain the information about the pixel value. These angles are defined as:\n",
    "$$\\vartheta_j = \\frac{\\pi}{2}\\frac{f'_j}{256} \\quad\\quad \\theta_j = \\frac{\\pi}{2}\\frac{f_j}{256}$$\n",
    "\n",
    "Measuring this final state enough number of times, we can estimate the rows of the adjacency matrix. "
   ]
  },
  {
   "cell_type": "code",
   "execution_count": 9,
   "metadata": {
    "colab": {
     "base_uri": "https://localhost:8080/"
    },
    "executionInfo": {
     "elapsed": 19,
     "status": "ok",
     "timestamp": 1648248671291,
     "user": {
      "displayName": "Jose Ignacio Espinoza",
      "photoUrl": "https://lh3.googleusercontent.com/a/default-user=s64",
      "userId": "11029753741418381231"
     },
     "user_tz": 360
    },
    "id": "T7ymUIsKJDyw",
    "outputId": "70fe3bc1-b46e-4f66-c406-811ea97a0ffd"
   },
   "outputs": [
    {
     "data": {
      "text/plain": [
       "array([ 63,   8,  82,  72, 129, 165, 248, 230, 131, 137, 239, 217,  55,\n",
       "       127, 184,  76])"
      ]
     },
     "execution_count": 9,
     "metadata": {},
     "output_type": "execute_result"
    }
   ],
   "source": [
    "# This lambda function works to give the n bitstring for all the 2^n states\n",
    "get_binary_number = lambda x, n: format(x, 'b').zfill(n)\n",
    "\n",
    "Square_array = Square.flatten()\n",
    "Square_array"
   ]
  },
  {
   "cell_type": "code",
   "execution_count": 10,
   "metadata": {
    "colab": {
     "base_uri": "https://localhost:8080/"
    },
    "executionInfo": {
     "elapsed": 148,
     "status": "ok",
     "timestamp": 1648248671895,
     "user": {
      "displayName": "Jose Ignacio Espinoza",
      "photoUrl": "https://lh3.googleusercontent.com/a/default-user=s64",
      "userId": "11029753741418381231"
     },
     "user_tz": 360
    },
    "id": "B41BUECpRInh",
    "outputId": "3d16ac51-b6f8-45c2-8e93-e75f851fcad0"
   },
   "outputs": [
    {
     "data": {
      "text/plain": [
       "array([[0., 1., 0., 0., 1., 0., 0., 0., 0., 0., 0., 0., 0., 0., 0., 0.],\n",
       "       [1., 0., 1., 0., 0., 1., 0., 0., 0., 0., 0., 0., 0., 0., 0., 0.],\n",
       "       [0., 1., 0., 1., 0., 0., 1., 0., 0., 0., 0., 0., 0., 0., 0., 0.],\n",
       "       [0., 0., 1., 0., 0., 0., 0., 1., 0., 0., 0., 0., 0., 0., 0., 0.],\n",
       "       [1., 0., 0., 0., 0., 1., 0., 0., 1., 0., 0., 0., 0., 0., 0., 0.],\n",
       "       [0., 1., 0., 0., 1., 0., 1., 0., 0., 1., 0., 0., 0., 0., 0., 0.],\n",
       "       [0., 0., 1., 0., 0., 1., 0., 1., 0., 0., 1., 0., 0., 0., 0., 0.],\n",
       "       [0., 0., 0., 1., 0., 0., 1., 0., 0., 0., 0., 1., 0., 0., 0., 0.],\n",
       "       [0., 0., 0., 0., 1., 0., 0., 0., 0., 1., 0., 0., 1., 0., 0., 0.],\n",
       "       [0., 0., 0., 0., 0., 1., 0., 0., 1., 0., 1., 0., 0., 1., 0., 0.],\n",
       "       [0., 0., 0., 0., 0., 0., 1., 0., 0., 1., 0., 1., 0., 0., 1., 0.],\n",
       "       [0., 0., 0., 0., 0., 0., 0., 1., 0., 0., 1., 0., 0., 0., 0., 1.],\n",
       "       [0., 0., 0., 0., 0., 0., 0., 0., 1., 0., 0., 0., 0., 1., 0., 0.],\n",
       "       [0., 0., 0., 0., 0., 0., 0., 0., 0., 1., 0., 0., 1., 0., 1., 0.],\n",
       "       [0., 0., 0., 0., 0., 0., 0., 0., 0., 0., 1., 0., 0., 1., 0., 1.],\n",
       "       [0., 0., 0., 0., 0., 0., 0., 0., 0., 0., 0., 1., 0., 0., 1., 0.]])"
      ]
     },
     "execution_count": 10,
     "metadata": {},
     "output_type": "execute_result"
    }
   ],
   "source": [
    "graph = image.img_to_graph(Square)\n",
    "unweighted_adjacency = np.zeros((graph.toarray().shape[0],graph.toarray().shape[0]))\n",
    "i= 0\n",
    "for row in graph.toarray():\n",
    "    j = 0\n",
    "    for col in row:\n",
    "        if i != j and col != 0.0:\n",
    "            unweighted_adjacency[i,j] = 1 \n",
    "        j += 1\n",
    "    i += 1\n",
    "unweighted_adjacency"
   ]
  },
  {
   "cell_type": "code",
   "execution_count": 11,
   "metadata": {
    "id": "XkFeuphzXJX7"
   },
   "outputs": [],
   "source": [
    "def quantum_circuit(circuit, qubits, image_array, row):\n",
    "    circuit.h(np.arange(qubits-1))\n",
    "\n",
    "    for col in range(image_array.shape[0]):\n",
    "        control_state = get_binary_number(col,4)\n",
    "\n",
    "        RYj = Operator(RYGate(pi/256*Square_array[col]).control(4, label = 'Pixel '+str(col), ctrl_state=control_state))\n",
    "        RYi = Operator(RYGate(-pi/256*Square_array[row]).control(4, label = 'Pixel '+str(row), ctrl_state=control_state))\n",
    "\n",
    "        circuit.append(RYi.compose(RYj), range(qubits))\n",
    "    circuit.measure(range(qubits), range(qubits))\n",
    "    return circuit\n",
    "\n",
    "def measure_circuit(backend, n_shots):\n",
    "    job = backend.run(transpile(qde, backend), shots=n_shots)\n",
    "    counts = job.result().get_counts()\n",
    "    return counts"
   ]
  },
  {
   "cell_type": "code",
   "execution_count": 12,
   "metadata": {
    "id": "jwRn1MNwJ9z6"
   },
   "outputs": [],
   "source": [
    "def check_numbers(prob_array):\n",
    "    count = 0\n",
    "    for num in prob_array:\n",
    "        if num > 1:\n",
    "            prob_array[count] = 1\n",
    "        count += 1\n",
    "    return prob_array\n",
    "\n",
    "\n",
    "\n",
    "def obtain_measurements_and_states_from_counts(counts, measure_array, states_array):\n",
    "    num = 0\n",
    "    for bitstring, measure in counts.items():\n",
    "        measure_array[num] = measure\n",
    "        states_array[num] = int(bitstring,2)\n",
    "        num += 1\n",
    "    return measure_array, states_array\n",
    "\n",
    "\n",
    "\n",
    "def obtain_probability_array(measure_array, states_array, qubits):\n",
    "    index = np.argsort(states_array)\n",
    "    measure_array = measure_array[index]\n",
    "    prob_array = measure_array*(1/measure_array.sum())\n",
    "    prob_array = check_numbers((2**(qubits-1))*prob_array[:2**(qubits-1)])\n",
    "    return prob_array\n",
    "\n",
    "\n",
    "\n",
    "def retrieve_matrix_from_measurements(qubits, counts):\n",
    "    measurements = np.array([0 for i in range(len(counts))])\n",
    "    states_list = [0 for i in range(len(counts))]\n",
    "    measurements, states_list = obtain_measurements_and_states_from_counts(counts, measurements, states_list)\n",
    "    prob_array = obtain_probability_array(measurements, states_list, qubits)\n",
    "    retrieved_image = np.arccos(np.sqrt(prob_array))*512/pi\n",
    "    return retrieved_image"
   ]
  },
  {
   "cell_type": "code",
   "execution_count": 13,
   "metadata": {
    "id": "GkQnh6cknv1g"
   },
   "outputs": [],
   "source": [
    "\"\"\" 得到邻接矩阵 \"\"\"\n",
    "\n",
    "qubits = 5\n",
    "backend = QasmSimulator()\n",
    "qde = QuantumCircuit(qubits, qubits)\n",
    "\n",
    "adjacency_matrix_list = []\n",
    "for row in range(graph.toarray().shape[0]):\n",
    "    qde = QuantumCircuit(qubits, qubits)\n",
    "    qde = quantum_circuit(qde, 5, Square_array, row)\n",
    "    counts = measure_circuit(backend, 2**5*100000)\n",
    "    ret_mat = retrieve_matrix_from_measurements(qubits, counts)\n",
    "    adjacency_matrix_list.append(ret_mat)"
   ]
  },
  {
   "cell_type": "code",
   "execution_count": 15,
   "metadata": {},
   "outputs": [
    {
     "data": {
      "text/plain": [
       "[array([  0.        ,  54.69638215,  19.90630268,  11.18770614,\n",
       "         65.75442993, 102.2343236 , 184.79132792, 166.85880624,\n",
       "         67.65941107,  73.92261206, 175.7063182 , 154.29524452,\n",
       "          7.92879143,  65.28485608, 121.05457719,  11.66006865]),\n",
       " array([ 55.42987778,   0.        ,  73.96087843,  64.16310742,\n",
       "        121.35140837, 156.9549133 , 239.81093627, 222.25633511,\n",
       "        122.95352394, 128.57367555, 230.89067354, 208.96493979,\n",
       "         46.94089862, 118.79764531, 175.95196467,  68.87872058]),\n",
       " array([ 16.01890216,  74.41589839,   0.        ,  10.75672544,\n",
       "         47.16630851,  83.27820773, 165.95518303, 147.5332502 ,\n",
       "         50.15755018,  54.06968709, 156.54417881, 134.65022682,\n",
       "         29.24667512,  45.15899711, 102.09624761,   5.39394406]),\n",
       " array([  9.48032869,  63.66474103,   6.88760901,   6.68184515,\n",
       "         56.88184548,  92.98741214, 175.80608327, 158.01702874,\n",
       "         59.04136983,  64.96882715, 166.87164755, 145.27401854,\n",
       "         17.82140062,  55.07653502, 111.99421085,  11.44670089]),\n",
       " array([ 65.49676998, 121.42662411,  47.57291354,  57.59572952,\n",
       "          3.34022051,  37.42033713, 119.17151366, 100.65938963,\n",
       "          0.        ,   0.        , 109.75531706,  87.93038445,\n",
       "         74.3087696 ,   0.        ,  55.26383574,  52.31075156]),\n",
       " array([102.25747169, 157.20363683,  83.51201339,  92.64557397,\n",
       "         36.66313529,   0.        ,  82.91571369,  64.941488  ,\n",
       "         33.70516507,  28.22506447,  74.62263793,  52.19768864,\n",
       "        109.76618143,  37.30066193,  16.13530181,  89.2796302 ]),\n",
       " array([185.15224487, 240.20797404, 165.84851052, 175.77966698,\n",
       "        119.52717117,  83.08608499,  11.94238912,  16.89635796,\n",
       "        117.31576012, 110.77682347,   6.9739396 ,  29.32313601,\n",
       "        193.44805712, 120.69547569,  64.26770016, 171.96934159]),\n",
       " array([167.24266415, 221.67176272, 148.18989144, 158.26174188,\n",
       "        101.4571735 ,  64.31707672,  15.35445468,   3.71671625,\n",
       "         99.06333849,  93.1424129 ,   0.        ,   3.85704445,\n",
       "        174.98882199, 103.03555234,  46.04621637, 154.64864197]),\n",
       " array([ 68.07793472, 123.37882148,  48.16981948,  58.39298849,\n",
       "         10.75053265,  33.06278765, 117.31576012,  99.11374032,\n",
       "          0.        ,   0.        , 108.07393099,  86.70426835,\n",
       "         76.56963446,   0.        ,  53.04397796,  54.79195614]),\n",
       " array([ 73.61908549, 129.19464706,  55.61617664,  65.42770148,\n",
       "         11.65435297,  27.49838997, 111.41053365,  92.77395294,\n",
       "          1.70932401,   6.32407969, 102.33718758,  79.65455856,\n",
       "         81.92934149,   6.76096812,  46.14199923,  60.76067579]),\n",
       " array([175.91572285, 231.00106841, 157.05141227, 167.0598012 ,\n",
       "        110.00511453,  73.64812986,  11.29437178,   3.25971057,\n",
       "        108.1033247 , 101.76317556,   0.        ,  22.99429982,\n",
       "        183.92589055, 111.90945543,  54.90436984, 163.08431018]),\n",
       " array([153.89774748, 209.11897354, 134.89144675, 144.78088596,\n",
       "         88.27664056,  51.4209864 ,  30.12040559,  14.21177865,\n",
       "         85.54958289,  80.13029858,  23.22436828,   5.01076941,\n",
       "        161.834168  ,  90.21618827,  33.43245382, 140.96714014]),\n",
       " array([  5.70527839,  46.50075086,  26.88386353,  17.87765073,\n",
       "         74.13341992, 110.2597477 , 192.91826891, 174.96743861,\n",
       "         76.2127737 ,  82.27917728, 183.67235111, 162.18626783,\n",
       "          7.28175474,  71.42521714, 129.56220782,  20.8222867 ]),\n",
       " array([ 63.80348308, 119.24282237,  44.42588556,  55.54896261,\n",
       "          2.15601501,  37.58362595, 121.29662812, 102.97144421,\n",
       "          0.        ,   7.59463926, 112.07479532,  89.43259464,\n",
       "         71.76921761,   8.0039286 ,  57.54928665,  51.6787125 ]),\n",
       " array([121.08565468, 175.86284865, 102.19145107, 111.72825222,\n",
       "         54.54028011,  16.23441734,  64.68817432,  46.28609977,\n",
       "         53.15146952,  47.39670141,  54.84295855,  33.26863639,\n",
       "        128.8417791 ,  57.39089647,  11.81899316, 107.42659195]),\n",
       " array([ 14.46316669,  68.1438395 ,   4.82155883,  12.3700396 ,\n",
       "         53.06817978,  88.65708383, 171.72355925, 153.7313837 ,\n",
       "         55.31317324,  59.71686981, 162.98838811, 140.60661058,\n",
       "         22.49145107,  50.94672632, 108.24185953,   0.        ])]"
      ]
     },
     "execution_count": 15,
     "metadata": {},
     "output_type": "execute_result"
    }
   ],
   "source": [
    "adjacency_matrix_list"
   ]
  },
  {
   "cell_type": "code",
   "execution_count": 18,
   "metadata": {
    "colab": {
     "base_uri": "https://localhost:8080/",
     "height": 1000
    },
    "executionInfo": {
     "elapsed": 63,
     "status": "ok",
     "timestamp": 1648248859478,
     "user": {
      "displayName": "Jose Ignacio Espinoza",
      "photoUrl": "https://lh3.googleusercontent.com/a/default-user=s64",
      "userId": "11029753741418381231"
     },
     "user_tz": 360
    },
    "id": "zvfSqdYQhnlS",
    "outputId": "64fd2dc0-54bc-47be-d054-8748c576554c"
   },
   "outputs": [
    {
     "data": {
      "text/plain": [
       "array([[0.   , 0.36 , 0.   , 0.   , 0.228, 0.   , 0.   , 0.   , 0.   ,\n",
       "        0.   , 0.   , 0.   , 0.   , 0.   , 0.   , 0.   ],\n",
       "       [0.35 , 0.   , 0.154, 0.   , 0.   , 0.   , 0.   , 0.   , 0.   ,\n",
       "        0.   , 0.   , 0.   , 0.   , 0.   , 0.   , 0.   ],\n",
       "       [0.   , 0.151, 0.   , 0.961, 0.   , 0.   , 0.   , 0.   , 0.   ,\n",
       "        0.   , 0.   , 0.   , 0.   , 0.   , 0.   , 0.   ],\n",
       "       [0.   , 0.   , 0.984, 0.   , 0.   , 0.   , 0.   , 0.   , 0.   ,\n",
       "        0.   , 0.   , 0.   , 0.   , 0.   , 0.   , 0.   ],\n",
       "       [0.231, 0.   , 0.   , 0.   , 0.   , 0.62 , 0.   , 0.   , 1.   ,\n",
       "        0.   , 0.   , 0.   , 0.   , 0.   , 0.   , 0.   ],\n",
       "       [0.   , 0.   , 0.   , 0.   , 0.632, 0.   , 0.095, 0.   , 0.   ,\n",
       "        0.762, 0.   , 0.   , 0.   , 0.   , 0.   , 0.   ],\n",
       "       [0.   , 0.   , 0.   , 0.   , 0.   , 0.094, 0.   , 0.907, 0.   ,\n",
       "        0.   , 0.984, 0.   , 0.   , 0.   , 0.   , 0.   ],\n",
       "       [0.   , 0.   , 0.   , 0.   , 0.   , 0.   , 0.923, 0.   , 0.   ,\n",
       "        0.   , 0.   , 0.995, 0.   , 0.   , 0.   , 0.   ],\n",
       "       [0.   , 0.   , 0.   , 0.   , 0.961, 0.   , 0.   , 0.   , 0.   ,\n",
       "        1.   , 0.   , 0.   , 0.135, 0.   , 0.   , 0.   ],\n",
       "       [0.   , 0.   , 0.   , 0.   , 0.   , 0.772, 0.   , 0.   , 0.999,\n",
       "        0.   , 0.028, 0.   , 0.   , 0.984, 0.   , 0.   ],\n",
       "       [0.   , 0.   , 0.   , 0.   , 0.   , 0.   , 0.957, 0.   , 0.   ,\n",
       "        0.029, 0.   , 0.835, 0.   , 0.   , 0.357, 0.   ],\n",
       "       [0.   , 0.   , 0.   , 0.   , 0.   , 0.   , 0.   , 0.933, 0.   ,\n",
       "        0.   , 0.832, 0.   , 0.   , 0.   , 0.   , 0.001],\n",
       "       [0.   , 0.   , 0.   , 0.   , 0.   , 0.   , 0.   , 0.   , 0.137,\n",
       "        0.   , 0.   , 0.   , 0.   , 0.175, 0.   , 0.   ],\n",
       "       [0.   , 0.   , 0.   , 0.   , 0.   , 0.   , 0.   , 0.   , 0.   ,\n",
       "        0.98 , 0.   , 0.   , 0.172, 0.   , 0.322, 0.   ],\n",
       "       [0.   , 0.   , 0.   , 0.   , 0.   , 0.   , 0.   , 0.   , 0.   ,\n",
       "        0.   , 0.358, 0.   , 0.   , 0.324, 0.   , 0.019],\n",
       "       [0.   , 0.   , 0.   , 0.   , 0.   , 0.   , 0.   , 0.   , 0.   ,\n",
       "        0.   , 0.   , 0.001, 0.   , 0.   , 0.018, 0.   ]])"
      ]
     },
     "metadata": {},
     "output_type": "display_data"
    },
    {
     "data": {
      "text/plain": [
       "array([[0.   , 0.356, 0.   , 0.   , 0.226, 0.   , 0.   , 0.   , 0.   ,\n",
       "        0.   , 0.   , 0.   , 0.   , 0.   , 0.   , 0.   ],\n",
       "       [0.356, 0.   , 0.154, 0.   , 0.   , 0.   , 0.   , 0.   , 0.   ,\n",
       "        0.   , 0.   , 0.   , 0.   , 0.   , 0.   , 0.   ],\n",
       "       [0.   , 0.154, 0.   , 0.966, 0.   , 0.   , 0.   , 0.   , 0.   ,\n",
       "        0.   , 0.   , 0.   , 0.   , 0.   , 0.   , 0.   ],\n",
       "       [0.   , 0.   , 0.966, 0.   , 0.   , 0.   , 0.   , 0.   , 0.   ,\n",
       "        0.   , 0.   , 0.   , 0.   , 0.   , 0.   , 0.   ],\n",
       "       [0.226, 0.   , 0.   , 0.   , 0.   , 0.642, 0.   , 0.   , 0.999,\n",
       "        0.   , 0.   , 0.   , 0.   , 0.   , 0.   , 0.   ],\n",
       "       [0.   , 0.   , 0.   , 0.   , 0.642, 0.   , 0.095, 0.   , 0.   ,\n",
       "        0.765, 0.   , 0.   , 0.   , 0.   , 0.   , 0.   ],\n",
       "       [0.   , 0.   , 0.   , 0.   , 0.   , 0.095, 0.   , 0.895, 0.   ,\n",
       "        0.   , 0.973, 0.   , 0.   , 0.   , 0.   , 0.   ],\n",
       "       [0.   , 0.   , 0.   , 0.   , 0.   , 0.   , 0.895, 0.   , 0.   ,\n",
       "        0.   , 0.   , 0.944, 0.   , 0.   , 0.   , 0.   ],\n",
       "       [0.   , 0.   , 0.   , 0.   , 0.999, 0.   , 0.   , 0.   , 0.   ,\n",
       "        0.988, 0.   , 0.   , 0.139, 0.   , 0.   , 0.   ],\n",
       "       [0.   , 0.   , 0.   , 0.   , 0.   , 0.765, 0.   , 0.   , 0.988,\n",
       "        0.   , 0.029, 0.   , 0.   , 0.966, 0.   , 0.   ],\n",
       "       [0.   , 0.   , 0.   , 0.   , 0.   , 0.   , 0.973, 0.   , 0.   ,\n",
       "        0.029, 0.   , 0.848, 0.   , 0.   , 0.356, 0.   ],\n",
       "       [0.   , 0.   , 0.   , 0.   , 0.   , 0.   , 0.   , 0.944, 0.   ,\n",
       "        0.   , 0.848, 0.   , 0.   , 0.   , 0.   , 0.001],\n",
       "       [0.   , 0.   , 0.   , 0.   , 0.   , 0.   , 0.   , 0.   , 0.139,\n",
       "        0.   , 0.   , 0.   , 0.   , 0.17 , 0.   , 0.   ],\n",
       "       [0.   , 0.   , 0.   , 0.   , 0.   , 0.   , 0.   , 0.   , 0.   ,\n",
       "        0.966, 0.   , 0.   , 0.17 , 0.   , 0.329, 0.   ],\n",
       "       [0.   , 0.   , 0.   , 0.   , 0.   , 0.   , 0.   , 0.   , 0.   ,\n",
       "        0.   , 0.356, 0.   , 0.   , 0.329, 0.   , 0.019],\n",
       "       [0.   , 0.   , 0.   , 0.   , 0.   , 0.   , 0.   , 0.   , 0.   ,\n",
       "        0.   , 0.   , 0.001, 0.   , 0.   , 0.019, 0.   ]])"
      ]
     },
     "metadata": {},
     "output_type": "display_data"
    }
   ],
   "source": [
    "#we use the sigma value with 15% of 255\n",
    "\"\"\" 高斯径向基函数，得到距离与相似度之间的映射 \"\"\"\n",
    "sigma = 255*0.15\n",
    "adjacency_matrix_estimation = np.exp(-np.square(np.array(adjacency_matrix_list) / sigma)/2)\n",
    "adjacency_matrix_estimation = adjacency_matrix_estimation*unweighted_adjacency\n",
    "display(np.round(adjacency_matrix_estimation,3), np.round(adjacency,3))"
   ]
  },
  {
   "cell_type": "markdown",
   "metadata": {
    "id": "0Qr3gGM7Nufw"
   },
   "source": [
    "### QAOA for Graph Cut"
   ]
  },
  {
   "cell_type": "markdown",
   "metadata": {
    "id": "bI7dtATDYGB7"
   },
   "source": [
    "How do we solve linear programming problems using QAOA? When QAOA was presented by E. Farhi and J. Goldstone [7], they took the maxcut problem as an example. The way to proceed is to take the linear programming problem and restructure it to have no constraints and only binary variables. We call this structure problem as Quadratic Unconstrained Binary Optimization problems. \n",
    "\n",
    "QUBO is defined as [8] \n",
    "\n",
    "$$\\mbox{maximize } \\sum_{i\\in V}c_{ii}x_i+\\sum_{e_{ij}\\in E}c_{ij}x_ix_j$$\n",
    "$$\\mbox{subject to } x_i = \\{0,1\\}^{\\otimes n}$$\n",
    "\n",
    "where $c$ is the cost and $x_i$ is a bitstring of size $n$. \n",
    "\n",
    "Why do we use QUBO? Well, using quantum computers, we simulate the objective function to be the energy of the system and find the solution corresponding to the minimum energy. The QUBO formulation is similar the Hamiltonian operator.\n",
    "\n",
    "The Hamiltonian, in quantum mechanics, is an operator that represents the energy of the system. The mathematical representation of a Hamiltonian is a diagonal matrix of the form:\n",
    "\n",
    "$$\\begin{bmatrix}h_{11}&0&\\dots&0\\\\0&h_{22}&\\dots&0\\\\\\vdots&\\vdots&\\ddots&\\vdots\\\\0&0&\\dots&h_{mm}\\end{bmatrix}$$\n",
    "\n",
    "for $n = \\log_2(m)$ qubits acting on $m$ states. \n",
    "\n",
    "Now, comimg back to the graph cut, we know that the normalized cut is defined as:\n",
    "\n",
    "$$NCut = Cut(A,B)*\\left(\\frac{1}{vol(A)}+\\frac{1}{vol(B)}\\right)$$\n",
    "\n",
    "This is the objective function (OF) of the graph cut problem. Hence, we can restructure it to write it as a Hamiltonian. The Hamiltonian associated to the $Ncut$ is:\n",
    "\n",
    "$$NCut=\\frac{1}{2}\\left(\\sum_{e_{ij}\\in E}-w_{ij}Z_iZ_j\\right)\\left(\\sum_{m=0}^{m=2^n}|m\\rangle\\langle m|\\left(\\frac{1}{vol(A_m)}+\\frac{1}{vol(B_m)}\\right)\\right) = H_AH_B$$\n",
    "\n",
    "The $NCut$ has two clauses, the $Cut(A,B)$ and the fractional. Let us begin with the _cut_, ie. $H_A$. We know that the _max cut_ problem can be written as the following Hamiltonian (see [QAOA in Qiskit](https://qiskit.org/textbook/ch-applications/qaoa.html#2-Examples:-)):\n",
    "\n",
    "$$H = \\sum_{e_{ij}\\in E}\\frac{1}{2}w_{ij}(I-Z_iZ_j)$$\n",
    "\n",
    "where, $H$ is the Hamiltonian, $I = I^{\\otimes n}$ is the tensor product of Identity operators for $n$ qubits and $Z_{i}Z_{j} = I\\otimes\\dots\\otimes I\\otimes Z_i\\otimes I \\otimes\\dots\\otimes I\\otimes Z_j\\otimes I \\otimes \\dots I $ the tensor product of Identity gates where $v_i$ and $v_j$ are not neighbors (ie., the weight of the edge is 0) and Pauli Z gates where there exists an edge betwen node $v_i$ and $v_j$.\n",
    "\n",
    "Hence, if we want a minimum cut, we have to _turn the sign_ of the maximization OF. Thus, \n",
    "\n",
    "$$H_A = \\frac{1}{2}\\sum_{e_{ij}\\in E}-w_{ij}Z_iZ_j$$\n",
    "\n",
    "Let us begin with the coding.\n",
    "\n",
    "We use vectors instead of matrices to produce the Hamiltonian. This is due two main reasons: \n",
    "\n",
    "1. Using matrices, we will finish using matrices of $2^{16}\\times2^{16}$, hence it is computationally prohibitive. Even using this Jupyter Notebook in Google Colab.\n",
    "\n",
    "2. The Identity and Pauli Z operators have information only in its diagonal. If we take their tensor products, only the diagonal will have information. As an example.\n",
    "\n",
    "$$I\\otimes Z=\\begin{bmatrix}1&0\\\\0&1\\end{bmatrix}\\otimes\\begin{bmatrix}1&0\\\\0&-1\\end{bmatrix} = \\begin{bmatrix}1&0&0&0\\\\0&-1&0&0\\\\0&0&1&0\\\\0&0&0&-1\\end{bmatrix}$$\n",
    "\n",
    "Hence, the vectors $\\overline{I} = \\mbox{diag}(I)$ and $\\overline{Z} = \\mbox{diag}(Z)$ will represent the diagonal of such operators:\n",
    "\n",
    "$$\\overline{I}\\otimes \\overline{Z}=\\begin{bmatrix}1\\\\1\\end{bmatrix}\\otimes\\begin{bmatrix}1\\\\-1\\end{bmatrix} = \\begin{bmatrix}1\\\\-1\\\\1\\\\-1\\end{bmatrix}$$"
   ]
  },
  {
   "cell_type": "code",
   "execution_count": 21,
   "metadata": {},
   "outputs": [
    {
     "data": {
      "text/plain": [
       "[(0, 1),\n",
       " (0, 4),\n",
       " (1, 0),\n",
       " (1, 2),\n",
       " (1, 5),\n",
       " (2, 1),\n",
       " (2, 3),\n",
       " (2, 6),\n",
       " (3, 2),\n",
       " (3, 7),\n",
       " (4, 0),\n",
       " (4, 5),\n",
       " (4, 8),\n",
       " (5, 1),\n",
       " (5, 4),\n",
       " (5, 6),\n",
       " (5, 9),\n",
       " (6, 2),\n",
       " (6, 5),\n",
       " (6, 7),\n",
       " (6, 10),\n",
       " (7, 3),\n",
       " (7, 6),\n",
       " (7, 11),\n",
       " (8, 4),\n",
       " (8, 9),\n",
       " (8, 12),\n",
       " (9, 5),\n",
       " (9, 8),\n",
       " (9, 10),\n",
       " (9, 13),\n",
       " (10, 6),\n",
       " (10, 9),\n",
       " (10, 11),\n",
       " (10, 14),\n",
       " (11, 7),\n",
       " (11, 10),\n",
       " (11, 15),\n",
       " (12, 8),\n",
       " (12, 13),\n",
       " (13, 9),\n",
       " (13, 12),\n",
       " (13, 14),\n",
       " (14, 10),\n",
       " (14, 13),\n",
       " (14, 15),\n",
       " (15, 11),\n",
       " (15, 14)]"
      ]
     },
     "execution_count": 21,
     "metadata": {},
     "output_type": "execute_result"
    }
   ],
   "source": [
    "edges = compute_edges(adjacency_matrix_estimation)\n",
    "edges"
   ]
  },
  {
   "cell_type": "code",
   "execution_count": 22,
   "metadata": {
    "colab": {
     "base_uri": "https://localhost:8080/"
    },
    "executionInfo": {
     "elapsed": 1109,
     "status": "ok",
     "timestamp": 1648248928746,
     "user": {
      "displayName": "Jose Ignacio Espinoza",
      "photoUrl": "https://lh3.googleusercontent.com/a/default-user=s64",
      "userId": "11029753741418381231"
     },
     "user_tz": 360
    },
    "id": "aFJeaoWqEOu0",
    "outputId": "1b9e18c3-a49a-4308-feef-8de349158b4c"
   },
   "outputs": [
    {
     "data": {
      "text/plain": [
       "array([ 0.       , -0.0409907, -1.397491 , ..., -1.397491 , -0.0409907,\n",
       "        0.       ])"
      ]
     },
     "execution_count": 22,
     "metadata": {},
     "output_type": "execute_result"
    }
   ],
   "source": [
    "# We will use vectors instead of matrices\n",
    "I = np.array([1,1])\n",
    "Z = np.array([1,-1])\n",
    "\n",
    "Hamiltonian_A = 0 # Let us initialize H_A as zero \n",
    "\n",
    "for edge in edges: # for every edge in the list of edges\n",
    "    gates = []  # we initialize the gates list\n",
    "    if (edge[0] < edge[1]):  # as an undirected graph, we have to only use one direction of the edge\n",
    "        for qubit in range(16):  # for every qubit\n",
    "            if (edge[0] == qubit or edge[1] == qubit): # we append Z if the i,j are neighbors\n",
    "                gates.append(Z)\n",
    "            else:\n",
    "                gates.append(I)  # else, we append an I operator \n",
    "        kronecker_product = gates[0] \n",
    "        for op in range(1,16): \n",
    "            kronecker_product = np.kron(kronecker_product, gates[op]) # we apply the tensor product to all gates\n",
    "        # and finally create the Hamiltonian corresponding to MinCut\n",
    "        Hamiltonian_A += -adjacency_matrix_estimation[edge[0],edge[1]]*(np.ones(2**16)-kronecker_product) \n",
    "\n",
    "Hamiltonian_A"
   ]
  },
  {
   "cell_type": "markdown",
   "metadata": {
    "id": "lPFT4zKFYNPa"
   },
   "source": [
    "Now we have the OF of the _MinCut_ problem. To normalize and find a balanced solution, we have to apply the _fractional_ clause of the NCUT. \n",
    "\n",
    "The bitsring $x_i$ is used in this case to segment the image. For example, if we consider the normalized cut made via _classical_ computation previously, we are in search of the bitstring $|0011001100110011\\rangle$ or $|1100110011001100\\rangle$. Because, if we rearrange the bits into the $4\\times4$ pixels image, then we will have the normalized segmentation.\n",
    "\n",
    "Hence, every row and column of the Hamiltonian corresponds to a new segmentation. We have to compute the segmentation for every bitstring. We do this with the Degree Matrix, defined as:\n",
    "\n",
    "$$d_{i} = \\sum_i w_ij$$\n",
    "\n",
    "Let us compute $H_B$"
   ]
  },
  {
   "cell_type": "code",
   "execution_count": 24,
   "metadata": {},
   "outputs": [
    {
     "data": {
      "text/plain": [
       "<networkx.classes.graph.Graph at 0x20fc6a2c9d0>"
      ]
     },
     "execution_count": 24,
     "metadata": {},
     "output_type": "execute_result"
    }
   ],
   "source": [
    "nx_graph, pixels = create_network(adjacency_matrix_estimation, edges)\n",
    "nx_graph"
   ]
  },
  {
   "cell_type": "code",
   "execution_count": 26,
   "metadata": {
    "colab": {
     "base_uri": "https://localhost:8080/",
     "height": 34
    },
    "executionInfo": {
     "elapsed": 29507,
     "status": "ok",
     "timestamp": 1648248981849,
     "user": {
      "displayName": "Jose Ignacio Espinoza",
      "photoUrl": "https://lh3.googleusercontent.com/a/default-user=s64",
      "userId": "11029753741418381231"
     },
     "user_tz": 360
    },
    "id": "ZubfddnVYSUP",
    "outputId": "11904b39-d3d3-4c3c-aeb3-7741e6896638"
   },
   "outputs": [
    {
     "data": {
      "text/plain": [
       "65536"
      ]
     },
     "metadata": {},
     "output_type": "display_data"
    },
    {
     "data": {
      "text/plain": [
       "array([0.04612545, 0.04612545, 0.04612545, ..., 0.04612545, 0.04612545,\n",
       "       0.04612545])"
      ]
     },
     "execution_count": 26,
     "metadata": {},
     "output_type": "execute_result"
    }
   ],
   "source": [
    "# Let us compute the second Hamiltonian, H_B\n",
    "Hamiltonian_B = np.array([0 for i in range(2**16)]).astype(float) # initialize the Hamiltonian B\n",
    "\n",
    "for state in range(2**16): # for all the 2^16 states\n",
    "    bitstring = get_binary_number(state,16)\n",
    "    A_partition, B_partition = compute_partition_segments(bitstring, nx_graph)\n",
    "    # compute the volume of each subset \n",
    "    deg_A, deg_B = nx.volume(nx_graph, A_partition, weight='weight'), nx.volume(nx_graph, B_partition, weight='weight')\n",
    "    if deg_B == 0: # we consider the case |0000000000000000>, where deg_b=0\n",
    "        Hamiltonian_B[state] = 1/deg_A\n",
    "    else:\n",
    "        if deg_A == 0: # we consider the case |1111111111111111>, where deg_b=0\n",
    "            Hamiltonian_B[state] = 1/deg_B\n",
    "        else: \n",
    "            Hamiltonian_B[state] = 1/deg_A+1/deg_B\n",
    "\n",
    "display(Hamiltonian_B.shape[0])\n",
    "Hamiltonian_B"
   ]
  },
  {
   "cell_type": "markdown",
   "metadata": {
    "id": "yGlpRi93YS2W"
   },
   "source": [
    "Now, let us combine $H_A$ and $H_B$ to compute the Hamiltonian assocaited with $NCut$. Once computed the Hamiltonian, we have to compute the evolution operator U, defined as:\n",
    "\n",
    "$$U = e^{-i\\gamma H}$$\n",
    "\n",
    "where $\\gamma$ is the parameter used in QAOA to optimize the algorithm. \n",
    "\n",
    "Note: the output of this fiunction is a list because the QISKIT function _Diagonal_ only allows the entry of a list and the listr of the qubits to act on.\n"
   ]
  },
  {
   "cell_type": "code",
   "execution_count": 27,
   "metadata": {
    "id": "T_SUT8I6Yclr"
   },
   "outputs": [],
   "source": [
    "def hamiltonian_function(circuit, gamma, H_a, H_b):  \n",
    "    U_gate_list = []  # we have to provide a list for the Diagonal function\n",
    "    Hamiltonian = H_a*H_b\n",
    "    U_gate = np.exp(-complex(0,1)*Hamiltonian*gamma) # compute the evolution of the Hamiltonian\n",
    "    for state in U_gate:\n",
    "        U_gate_list.append(state)\n",
    "    return circuit.diagonal(U_gate_list, [0,1,2,3,4,5,6,7,8,9,10,11,12,13,14,15])"
   ]
  },
  {
   "cell_type": "code",
   "execution_count": 32,
   "metadata": {
    "id": "Lxz97G8-Yfas"
   },
   "outputs": [],
   "source": [
    "def compute_expectation(counts, graph):\n",
    "    \"\"\"\n",
    "    Computes expectation value based on measurement results\n",
    "    Args:\n",
    "        counts: dict key as bitstring, val as count\n",
    "        G: networkx graph\n",
    "    Returns:\n",
    "        avg: float expectation value\n",
    "    \"\"\"\n",
    "    \n",
    "    avg = 0\n",
    "    sum_count = 0\n",
    "\n",
    "    #Loop over the counts, ie., the bitstrings and their counts\n",
    "    for bitstring, count in counts.items():\n",
    "        obj = maxcut_obj(bitstring, graph)\n",
    "        avg += obj * count\n",
    "        sum_count += count\n",
    "        \n",
    "    return avg/sum_count\n",
    "\n",
    "def maxcut_obj(bitstring, graph):\n",
    "    \"\"\"\n",
    "    Given a bitstring as a solution, this function returns the number of edges\n",
    "    shared between the two partitions of the graph.\n",
    "    \n",
    "    Args:\n",
    "        x: str - solution bitstring\n",
    "        G: networkx graph\n",
    "    Returns:\n",
    "        obj: float - Objective\n",
    "    \"\"\"\n",
    "    obj = 0\n",
    "    for i, j, w in graph.edges(data=True):\n",
    "        if bitstring[i] != bitstring[j]:\n",
    "            obj += w['weight']\n",
    "            \n",
    "    return obj\n",
    "\n",
    "\n",
    "# We will also bring the different circuit components that\n",
    "# build the qaoa circuit under a single function\n",
    "def create_qaoa_circ(graph, theta):\n",
    "    \"\"\"\n",
    "    Creates a parametrized qaoa circuit\n",
    "    \n",
    "    Args:  \n",
    "        G: networkx graph\n",
    "        theta: list - unitary parameters\n",
    "    Returns:\n",
    "        qc: qiskit circuit\n",
    "    \"\"\"\n",
    "    \n",
    "    nqubits = len(graph.nodes())\n",
    "    print(nqubits)\n",
    "    p = len(theta)//2  # number of alternating unitaries, P=1 in this case\n",
    "    qc = QuantumCircuit(nqubits)\n",
    "    \n",
    "    beta = theta[:p]\n",
    "    gamma = theta[p:]\n",
    "    \n",
    "    # First, let us prepare the uniform superposition on nqubits\n",
    "    # which are the nodes\n",
    "    for i in range(0, nqubits):\n",
    "        qc.h(i)\n",
    "\n",
    "    # Now, let us prepare the cost function with RZZ gates between the neighboring\n",
    "    # nodes u and v. We prepare the RZZ considering the edges weight\n",
    "    for irep in range(0, p):\n",
    "        hamiltonian_function(qc, gamma[irep], Hamiltonian_A, Hamiltonian_B)\n",
    "        #for u, v, w in graph.edges(data=True):  # u and v = pair of nodes, w = weight\n",
    "        #  if w['weight']!=0: # apply RZZ only if there is a connection betwen u and v\n",
    "        #    qc.rzz(2 * gamma[irep] * w['weight'], u,v)\n",
    "\n",
    "        # Now, let us prepare the mixing unitary by applying parameterized X gates \n",
    "        for i in range(0, nqubits): # apply parameterized X gates to all the qubits (nodes)\n",
    "            qc.rx(2 * beta[irep], i)\n",
    "            \n",
    "    qc.measure_all()\n",
    "        \n",
    "    return qc\n",
    "\n",
    "# Finally we write a function that executes the circuit on the chosen backend\n",
    "def get_expectation(graph, p, shots=512):\n",
    "    \"\"\"\n",
    "    Runs parametrized circuit\n",
    "    Args:\n",
    "        G: networkx graph\n",
    "        p: int - Number of repetitions of unitaries\n",
    "    \"\"\"\n",
    "    \n",
    "    backend = Aer.get_backend('qasm_simulator')\n",
    "    backend.shots = shots\n",
    "    \n",
    "    def execute_circ(theta):\n",
    "        \n",
    "        qc = create_qaoa_circ(graph, theta)\n",
    "        counts = backend.run(qc, seed_simulator=10, \n",
    "                             nshots=2**12).result().get_counts()\n",
    "        \n",
    "        return compute_expectation(counts, graph)\n",
    "    \n",
    "    return execute_circ"
   ]
  },
  {
   "cell_type": "code",
   "execution_count": 33,
   "metadata": {
    "colab": {
     "base_uri": "https://localhost:8080/",
     "height": 139
    },
    "executionInfo": {
     "elapsed": 110047,
     "status": "ok",
     "timestamp": 1648249332306,
     "user": {
      "displayName": "Jose Ignacio Espinoza",
      "photoUrl": "https://lh3.googleusercontent.com/a/default-user=s64",
      "userId": "11029753741418381231"
     },
     "user_tz": 360
    },
    "id": "HEVUVuZZYm3b",
    "outputId": "ed453ee4-2519-4231-e534-246f31673338"
   },
   "outputs": [
    {
     "name": "stdout",
     "output_type": "stream",
     "text": [
      "16\n",
      "16\n",
      "16\n",
      "16\n",
      "16\n",
      "16\n",
      "16\n",
      "16\n",
      "16\n",
      "16\n",
      "16\n",
      "16\n",
      "16\n",
      "16\n",
      "16\n",
      "16\n",
      "16\n",
      "16\n",
      "16\n",
      "16\n",
      "16\n",
      "16\n",
      "16\n",
      "16\n",
      "16\n",
      "16\n",
      "16\n",
      "16\n",
      "16\n",
      "16\n"
     ]
    },
    {
     "data": {
      "text/plain": [
       " message: Optimization terminated successfully.\n",
       " success: True\n",
       "  status: 1\n",
       "     fun: 4.616562988514631\n",
       "       x: [ 1.951e+00  1.798e+00]\n",
       "    nfev: 30\n",
       "   maxcv: 0.0"
      ]
     },
     "metadata": {},
     "output_type": "display_data"
    },
    {
     "name": "stdout",
     "output_type": "stream",
     "text": [
      "16\n"
     ]
    }
   ],
   "source": [
    "from scipy.optimize import minimize\n",
    "\n",
    "expectation = get_expectation(nx_graph, p=1) ############# change to a new graph\n",
    "\n",
    "res = minimize(expectation, [1.0, 1.0], method='COBYLA')\n",
    "display(res)\n",
    "\n",
    "backend = BasicAer.get_backend('qasm_simulator') # the device to run on\n",
    "qaoa_qc  = create_qaoa_circ(nx_graph, res.x)  ############# change to a new graph\n",
    "result = backend.run(transpile(qaoa_qc, backend), shots=2**15).result() # 2^14 is the minimum number of shots\n",
    "qaoa_counts  = result.get_counts(qaoa_qc)"
   ]
  },
  {
   "cell_type": "code",
   "execution_count": 30,
   "metadata": {
    "colab": {
     "base_uri": "https://localhost:8080/",
     "height": 725
    },
    "executionInfo": {
     "elapsed": 112,
     "status": "ok",
     "timestamp": 1648249332314,
     "user": {
      "displayName": "Jose Ignacio Espinoza",
      "photoUrl": "https://lh3.googleusercontent.com/a/default-user=s64",
      "userId": "11029753741418381231"
     },
     "user_tz": 360
    },
    "id": "rU37WAxTi_y8",
    "outputId": "bd9ebd37-0ecc-4735-98c1-41b0c66f6930"
   },
   "outputs": [
    {
     "data": {
      "image/png": "[encoded data removed]",
      "text/plain": [
       "<Figure size 2000x1000 with 1 Axes>"
      ]
     },
     "execution_count": 30,
     "metadata": {},
     "output_type": "execute_result"
    }
   ],
   "source": [
    "visualization_list = {}\n",
    "for i in qaoa_counts:\n",
    "    if qaoa_counts[i] >= 7:\n",
    "        visualization_list[i] = qaoa_counts[i]\n",
    "\n",
    "plot_histogram(visualization_list, figsize=(20,10))"
   ]
  },
  {
   "cell_type": "markdown",
   "metadata": {
    "id": "ewK-54sOgSzs"
   },
   "source": [
    "Now, let us compute the cut size of the solution given by the simulation."
   ]
  },
  {
   "cell_type": "code",
   "execution_count": 31,
   "metadata": {
    "colab": {
     "base_uri": "https://localhost:8080/"
    },
    "executionInfo": {
     "elapsed": 89,
     "status": "ok",
     "timestamp": 1648249332318,
     "user": {
      "displayName": "Jose Ignacio Espinoza",
      "photoUrl": "https://lh3.googleusercontent.com/a/default-user=s64",
      "userId": "11029753741418381231"
     },
     "user_tz": 360
    },
    "id": "WpsnLsnRgcm_",
    "outputId": "6b4ad995-0837-4f3f-aed4-36ab9d386390"
   },
   "outputs": [
    {
     "name": "stdout",
     "output_type": "stream",
     "text": [
      "Normalized Cut Estimation:  0.13482175398859758\n"
     ]
    }
   ],
   "source": [
    "most_frq_btstr = []\n",
    "value_frq_btstr = 0\n",
    "for value in visualization_list:\n",
    "    if visualization_list[value] > value_frq_btstr:\n",
    "        value_frq_btstr = visualization_list[value]\n",
    "        most_frq_btstr.append(value)\n",
    "\n",
    "bit_list = []\n",
    "for bit in most_frq_btstr[len(most_frq_btstr)-1]:\n",
    "      bit_list.append(int(bit))\n",
    "\n",
    "new_graph, pixels = create_network(adjacency_matrix_estimation, edges)\n",
    "cut_size = compute_cut_size(bit_list, new_graph) #### change to the new graph\n",
    "print(\"Normalized Cut Estimation: \", cut_size)"
   ]
  },
  {
   "cell_type": "markdown",
   "metadata": {
    "id": "sGD-lJ6qZTVd"
   },
   "source": [
    "# References\n",
    "[1] A. J. Sanchez-Fernandez et al., \"Asynchronous Processing for Latent Fingerprint Identification on Heterogeneous CPU-GPU Systems,\" in IEEE Access, vol. 8, pp. 124236-124253, 2020, doi: 10.1109/ACCESS.2020.3005476.\n",
    "\n",
    "[2] D. Valdes-Ramirez et al., \"A Review of Fingerprint Feature Representations and Their Applications for Latent Fingerprint Identification: Trends and Evaluation,\" in IEEE Access, vol. 7, pp. 48484-48499, 2019, doi: 10.1109/ACCESS.2019.2909497.\n",
    "\n",
    "[3] Jianbo Shi and J. Malik. Normalized cuts and image segmentation. IEEE Trans-actions on Pattern Analysis and Machine Intelligence, 22(8):888–905, 2000.\n",
    "\n",
    "[4] Lisa Tse, Peter Mountney, Paul Klein, and Simone Severini. Graph cut segmentation methods revisited with a quantum algorithm.CoRR, https://arxiv.org/abs/1812.03050.\n",
    "\n",
    "[5] Le, P.Q., Dong, F. & Hirota, K. A flexible representation of quantum images for polynomial preparation, image compression, and processing operations. Quantum Inf Process 10, 63–84 (2011). https://doi.org/10.1007/s11128-010-0177-y\n",
    "\n",
    "[6] Nicolas Tremblay and Andreas Loukas.Approximating  Spectral  Clustering  via Sampling:  A Review, pages 129–183.  Springer International Publishing, Cham,2020.\n",
    "\n",
    "[7] Farhi, Edward, Jeffrey Goldstone, and Sam Gutmann. \"A quantum approximate optimization algorithm.\" arXiv preprint arXiv:1411.4028 (2014).\n",
    "\n",
    "[8] Mark Lewis and Fred Glover. Quadratic Unconstrained Binary Optimization Problem Preprocessing:  Theory and Empirical Analysis\n"
   ]
  }
 ],
 "metadata": {
  "accelerator": "GPU",
  "colab": {
   "collapsed_sections": [],
   "name": "2. Quantum Spectral Clustering Qiskit.ipynb",
   "provenance": []
  },
  "kernelspec": {
   "display_name": "qiskitenv",
   "language": "python",
   "name": "qiskitenv"
  },
  "language_info": {
   "codemirror_mode": {
    "name": "ipython",
    "version": 3
   },
   "file_extension": ".py",
   "mimetype": "text/x-python",
   "name": "python",
   "nbconvert_exporter": "python",
   "pygments_lexer": "ipython3",
   "version": "3.10.13"
  }
 },
 "nbformat": 4,
 "nbformat_minor": 1
}
